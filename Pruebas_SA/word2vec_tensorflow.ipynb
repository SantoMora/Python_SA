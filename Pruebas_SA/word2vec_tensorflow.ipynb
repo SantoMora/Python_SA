{
 "cells": [
  {
   "cell_type": "markdown",
   "metadata": {},
   "source": [
    "# Word2Vec"
   ]
  },
  {
   "cell_type": "code",
   "execution_count": 28,
   "metadata": {},
   "outputs": [],
   "source": [
    "import tensorflow as tf\n",
    "import numpy as np"
   ]
  },
  {
   "cell_type": "markdown",
   "metadata": {},
   "source": [
    "# Recolectando Datos\n"
   ]
  },
  {
   "cell_type": "code",
   "execution_count": 29,
   "metadata": {
    "collapsed": true
   },
   "outputs": [],
   "source": [
    "corpus = ['el rey es un hombre fuerte',\n",
    "          'la reina es una mujer sabia',\n",
    "          'niño es un hombre joven',\n",
    "          'niña es una mujer joven',\n",
    "          'principe es un rey joven',\n",
    "          'princesa es una reina joven',\n",
    "          'un hombre es fuerte',\n",
    "          'una mujer es hermosa',\n",
    "          'un principe es un niño que sera rey',\n",
    "          'una princesa es una niña que sera reina']"
   ]
  },
  {
   "cell_type": "markdown",
   "metadata": {},
   "source": [
    "# Quitando stop words\n"
   ]
  },
  {
   "cell_type": "code",
   "execution_count": 30,
   "metadata": {
    "collapsed": true
   },
   "outputs": [],
   "source": [
    "def remove_stop_words(corpus):\n",
    "    stop_words = ['es', 'un', 'una', 'sera', 'el', 'la', 'que']\n",
    "    results = []\n",
    "    for text in corpus:\n",
    "        tmp = text.split(' ')\n",
    "        for stop_word in stop_words:\n",
    "            if stop_word in tmp:\n",
    "                tmp.remove(stop_word)\n",
    "        results.append(\" \".join(tmp))\n",
    "    \n",
    "    return results"
   ]
  },
  {
   "cell_type": "code",
   "execution_count": 36,
   "metadata": {},
   "outputs": [
    {
     "name": "stdout",
     "output_type": "stream",
     "text": [
      "['rey hombre fuerte', 'reina mujer sabia', 'niño hombre joven', 'niña mujer joven', 'principe rey joven', 'princesa reina joven', 'hombre fuerte', 'mujer hermosa', 'principe niño rey', 'princesa niña reina']\n"
     ]
    }
   ],
   "source": [
    "corpus = remove_stop_words(corpus)\n",
    "print(corpus)"
   ]
  },
  {
   "cell_type": "code",
   "execution_count": 37,
   "metadata": {},
   "outputs": [
    {
     "name": "stdout",
     "output_type": "stream",
     "text": [
      "{'hermosa', 'niño', 'joven', 'hombre', 'principe', 'princesa', 'reina', 'mujer', 'fuerte', 'sabia', 'rey', 'niña'}\n"
     ]
    }
   ],
   "source": [
    "words = []\n",
    "for text in corpus:\n",
    "    for word in text.split(' '):\n",
    "        words.append(word)\n",
    "\n",
    "words = set(words)\n",
    "print(words)"
   ]
  },
  {
   "cell_type": "markdown",
   "metadata": {},
   "source": [
    "here we have word set by which we will have word vector"
   ]
  },
  {
   "cell_type": "code",
   "execution_count": 38,
   "metadata": {},
   "outputs": [
    {
     "data": {
      "text/plain": [
       "{'fuerte',\n",
       " 'hermosa',\n",
       " 'hombre',\n",
       " 'joven',\n",
       " 'mujer',\n",
       " 'niña',\n",
       " 'niño',\n",
       " 'princesa',\n",
       " 'principe',\n",
       " 'reina',\n",
       " 'rey',\n",
       " 'sabia'}"
      ]
     },
     "execution_count": 38,
     "metadata": {},
     "output_type": "execute_result"
    }
   ],
   "source": [
    "words"
   ]
  },
  {
   "cell_type": "markdown",
   "metadata": {},
   "source": [
    "# Skip gram\n"
   ]
  },
  {
   "cell_type": "code",
   "execution_count": 39,
   "metadata": {},
   "outputs": [
    {
     "name": "stdout",
     "output_type": "stream",
     "text": [
      "rey hombre fuerte\n",
      "reina mujer sabia\n",
      "niño hombre joven\n",
      "niña mujer joven\n",
      "principe rey joven\n",
      "princesa reina joven\n",
      "hombre fuerte\n",
      "mujer hermosa\n",
      "principe niño rey\n",
      "princesa niña reina\n",
      "52\n",
      "{'hermosa': 0, 'niño': 1, 'joven': 2, 'hombre': 3, 'principe': 4, 'princesa': 5, 'reina': 6, 'mujer': 7, 'fuerte': 8, 'sabia': 9, 'rey': 10, 'niña': 11}\n"
     ]
    }
   ],
   "source": [
    "word2int = {}\n",
    "for i,word in enumerate(words):\n",
    "    word2int[word] = i\n",
    "\n",
    "sentences = []\n",
    "for sentence in corpus:\n",
    "    print(sentence)\n",
    "    sentences.append(sentence.split())\n",
    "    \n",
    "WINDOW_SIZE = 2\n",
    "data = []\n",
    "for sentence in sentences:\n",
    "    #print(sentence)\n",
    "    for idx, word in enumerate(sentence):\n",
    "        #print(idx , word)\n",
    "        for neighbor in sentence[max(idx - WINDOW_SIZE, 0) : min(idx + WINDOW_SIZE, len(sentence)) + 1] : \n",
    "            if neighbor != word:\n",
    "                #print(word , neighbor)\n",
    "                data.append([word, neighbor])\n",
    "\n",
    "print(len(data))\n",
    "print(word2int)"
   ]
  },
  {
   "cell_type": "code",
   "execution_count": 46,
   "metadata": {},
   "outputs": [
    {
     "name": "stdout",
     "output_type": "stream",
     "text": [
      "rey hombre fuerte\n",
      "reina mujer sabia\n",
      "niño hombre joven\n",
      "niña mujer joven\n",
      "principe rey joven\n",
      "princesa reina joven\n",
      "hombre fuerte\n",
      "mujer hermosa\n",
      "principe niño rey\n",
      "princesa niña reina\n"
     ]
    }
   ],
   "source": [
    "import pandas as pd\n",
    "for text in corpus:\n",
    "    print(text)\n",
    "\n",
    "df = pd.DataFrame(data, columns = ['input', 'neighbor'])"
   ]
  },
  {
   "cell_type": "code",
   "execution_count": 47,
   "metadata": {},
   "outputs": [
    {
     "data": {
      "text/html": [
       "<div>\n",
       "<style>\n",
       "    .dataframe thead tr:only-child th {\n",
       "        text-align: right;\n",
       "    }\n",
       "\n",
       "    .dataframe thead th {\n",
       "        text-align: left;\n",
       "    }\n",
       "\n",
       "    .dataframe tbody tr th {\n",
       "        vertical-align: top;\n",
       "    }\n",
       "</style>\n",
       "<table border=\"1\" class=\"dataframe\">\n",
       "  <thead>\n",
       "    <tr style=\"text-align: right;\">\n",
       "      <th></th>\n",
       "      <th>input</th>\n",
       "      <th>neighbor</th>\n",
       "    </tr>\n",
       "  </thead>\n",
       "  <tbody>\n",
       "    <tr>\n",
       "      <th>0</th>\n",
       "      <td>rey</td>\n",
       "      <td>hombre</td>\n",
       "    </tr>\n",
       "    <tr>\n",
       "      <th>1</th>\n",
       "      <td>rey</td>\n",
       "      <td>fuerte</td>\n",
       "    </tr>\n",
       "    <tr>\n",
       "      <th>2</th>\n",
       "      <td>hombre</td>\n",
       "      <td>rey</td>\n",
       "    </tr>\n",
       "    <tr>\n",
       "      <th>3</th>\n",
       "      <td>hombre</td>\n",
       "      <td>fuerte</td>\n",
       "    </tr>\n",
       "    <tr>\n",
       "      <th>4</th>\n",
       "      <td>fuerte</td>\n",
       "      <td>rey</td>\n",
       "    </tr>\n",
       "    <tr>\n",
       "      <th>5</th>\n",
       "      <td>fuerte</td>\n",
       "      <td>hombre</td>\n",
       "    </tr>\n",
       "    <tr>\n",
       "      <th>6</th>\n",
       "      <td>reina</td>\n",
       "      <td>mujer</td>\n",
       "    </tr>\n",
       "    <tr>\n",
       "      <th>7</th>\n",
       "      <td>reina</td>\n",
       "      <td>sabia</td>\n",
       "    </tr>\n",
       "    <tr>\n",
       "      <th>8</th>\n",
       "      <td>mujer</td>\n",
       "      <td>reina</td>\n",
       "    </tr>\n",
       "    <tr>\n",
       "      <th>9</th>\n",
       "      <td>mujer</td>\n",
       "      <td>sabia</td>\n",
       "    </tr>\n",
       "    <tr>\n",
       "      <th>10</th>\n",
       "      <td>sabia</td>\n",
       "      <td>reina</td>\n",
       "    </tr>\n",
       "    <tr>\n",
       "      <th>11</th>\n",
       "      <td>sabia</td>\n",
       "      <td>mujer</td>\n",
       "    </tr>\n",
       "    <tr>\n",
       "      <th>12</th>\n",
       "      <td>niño</td>\n",
       "      <td>hombre</td>\n",
       "    </tr>\n",
       "    <tr>\n",
       "      <th>13</th>\n",
       "      <td>niño</td>\n",
       "      <td>joven</td>\n",
       "    </tr>\n",
       "    <tr>\n",
       "      <th>14</th>\n",
       "      <td>hombre</td>\n",
       "      <td>niño</td>\n",
       "    </tr>\n",
       "    <tr>\n",
       "      <th>15</th>\n",
       "      <td>hombre</td>\n",
       "      <td>joven</td>\n",
       "    </tr>\n",
       "    <tr>\n",
       "      <th>16</th>\n",
       "      <td>joven</td>\n",
       "      <td>niño</td>\n",
       "    </tr>\n",
       "    <tr>\n",
       "      <th>17</th>\n",
       "      <td>joven</td>\n",
       "      <td>hombre</td>\n",
       "    </tr>\n",
       "    <tr>\n",
       "      <th>18</th>\n",
       "      <td>niña</td>\n",
       "      <td>mujer</td>\n",
       "    </tr>\n",
       "    <tr>\n",
       "      <th>19</th>\n",
       "      <td>niña</td>\n",
       "      <td>joven</td>\n",
       "    </tr>\n",
       "    <tr>\n",
       "      <th>20</th>\n",
       "      <td>mujer</td>\n",
       "      <td>niña</td>\n",
       "    </tr>\n",
       "    <tr>\n",
       "      <th>21</th>\n",
       "      <td>mujer</td>\n",
       "      <td>joven</td>\n",
       "    </tr>\n",
       "    <tr>\n",
       "      <th>22</th>\n",
       "      <td>joven</td>\n",
       "      <td>niña</td>\n",
       "    </tr>\n",
       "    <tr>\n",
       "      <th>23</th>\n",
       "      <td>joven</td>\n",
       "      <td>mujer</td>\n",
       "    </tr>\n",
       "    <tr>\n",
       "      <th>24</th>\n",
       "      <td>principe</td>\n",
       "      <td>rey</td>\n",
       "    </tr>\n",
       "    <tr>\n",
       "      <th>25</th>\n",
       "      <td>principe</td>\n",
       "      <td>joven</td>\n",
       "    </tr>\n",
       "    <tr>\n",
       "      <th>26</th>\n",
       "      <td>rey</td>\n",
       "      <td>principe</td>\n",
       "    </tr>\n",
       "    <tr>\n",
       "      <th>27</th>\n",
       "      <td>rey</td>\n",
       "      <td>joven</td>\n",
       "    </tr>\n",
       "    <tr>\n",
       "      <th>28</th>\n",
       "      <td>joven</td>\n",
       "      <td>principe</td>\n",
       "    </tr>\n",
       "    <tr>\n",
       "      <th>29</th>\n",
       "      <td>joven</td>\n",
       "      <td>rey</td>\n",
       "    </tr>\n",
       "    <tr>\n",
       "      <th>30</th>\n",
       "      <td>princesa</td>\n",
       "      <td>reina</td>\n",
       "    </tr>\n",
       "    <tr>\n",
       "      <th>31</th>\n",
       "      <td>princesa</td>\n",
       "      <td>joven</td>\n",
       "    </tr>\n",
       "    <tr>\n",
       "      <th>32</th>\n",
       "      <td>reina</td>\n",
       "      <td>princesa</td>\n",
       "    </tr>\n",
       "    <tr>\n",
       "      <th>33</th>\n",
       "      <td>reina</td>\n",
       "      <td>joven</td>\n",
       "    </tr>\n",
       "    <tr>\n",
       "      <th>34</th>\n",
       "      <td>joven</td>\n",
       "      <td>princesa</td>\n",
       "    </tr>\n",
       "    <tr>\n",
       "      <th>35</th>\n",
       "      <td>joven</td>\n",
       "      <td>reina</td>\n",
       "    </tr>\n",
       "    <tr>\n",
       "      <th>36</th>\n",
       "      <td>hombre</td>\n",
       "      <td>fuerte</td>\n",
       "    </tr>\n",
       "    <tr>\n",
       "      <th>37</th>\n",
       "      <td>fuerte</td>\n",
       "      <td>hombre</td>\n",
       "    </tr>\n",
       "    <tr>\n",
       "      <th>38</th>\n",
       "      <td>mujer</td>\n",
       "      <td>hermosa</td>\n",
       "    </tr>\n",
       "    <tr>\n",
       "      <th>39</th>\n",
       "      <td>hermosa</td>\n",
       "      <td>mujer</td>\n",
       "    </tr>\n",
       "    <tr>\n",
       "      <th>40</th>\n",
       "      <td>principe</td>\n",
       "      <td>niño</td>\n",
       "    </tr>\n",
       "    <tr>\n",
       "      <th>41</th>\n",
       "      <td>principe</td>\n",
       "      <td>rey</td>\n",
       "    </tr>\n",
       "    <tr>\n",
       "      <th>42</th>\n",
       "      <td>niño</td>\n",
       "      <td>principe</td>\n",
       "    </tr>\n",
       "    <tr>\n",
       "      <th>43</th>\n",
       "      <td>niño</td>\n",
       "      <td>rey</td>\n",
       "    </tr>\n",
       "    <tr>\n",
       "      <th>44</th>\n",
       "      <td>rey</td>\n",
       "      <td>principe</td>\n",
       "    </tr>\n",
       "    <tr>\n",
       "      <th>45</th>\n",
       "      <td>rey</td>\n",
       "      <td>niño</td>\n",
       "    </tr>\n",
       "    <tr>\n",
       "      <th>46</th>\n",
       "      <td>princesa</td>\n",
       "      <td>niña</td>\n",
       "    </tr>\n",
       "    <tr>\n",
       "      <th>47</th>\n",
       "      <td>princesa</td>\n",
       "      <td>reina</td>\n",
       "    </tr>\n",
       "    <tr>\n",
       "      <th>48</th>\n",
       "      <td>niña</td>\n",
       "      <td>princesa</td>\n",
       "    </tr>\n",
       "    <tr>\n",
       "      <th>49</th>\n",
       "      <td>niña</td>\n",
       "      <td>reina</td>\n",
       "    </tr>\n",
       "    <tr>\n",
       "      <th>50</th>\n",
       "      <td>reina</td>\n",
       "      <td>princesa</td>\n",
       "    </tr>\n",
       "    <tr>\n",
       "      <th>51</th>\n",
       "      <td>reina</td>\n",
       "      <td>niña</td>\n",
       "    </tr>\n",
       "  </tbody>\n",
       "</table>\n",
       "</div>"
      ],
      "text/plain": [
       "       input  neighbor\n",
       "0        rey    hombre\n",
       "1        rey    fuerte\n",
       "2     hombre       rey\n",
       "3     hombre    fuerte\n",
       "4     fuerte       rey\n",
       "5     fuerte    hombre\n",
       "6      reina     mujer\n",
       "7      reina     sabia\n",
       "8      mujer     reina\n",
       "9      mujer     sabia\n",
       "10     sabia     reina\n",
       "11     sabia     mujer\n",
       "12      niño    hombre\n",
       "13      niño     joven\n",
       "14    hombre      niño\n",
       "15    hombre     joven\n",
       "16     joven      niño\n",
       "17     joven    hombre\n",
       "18      niña     mujer\n",
       "19      niña     joven\n",
       "20     mujer      niña\n",
       "21     mujer     joven\n",
       "22     joven      niña\n",
       "23     joven     mujer\n",
       "24  principe       rey\n",
       "25  principe     joven\n",
       "26       rey  principe\n",
       "27       rey     joven\n",
       "28     joven  principe\n",
       "29     joven       rey\n",
       "30  princesa     reina\n",
       "31  princesa     joven\n",
       "32     reina  princesa\n",
       "33     reina     joven\n",
       "34     joven  princesa\n",
       "35     joven     reina\n",
       "36    hombre    fuerte\n",
       "37    fuerte    hombre\n",
       "38     mujer   hermosa\n",
       "39   hermosa     mujer\n",
       "40  principe      niño\n",
       "41  principe       rey\n",
       "42      niño  principe\n",
       "43      niño       rey\n",
       "44       rey  principe\n",
       "45       rey      niño\n",
       "46  princesa      niña\n",
       "47  princesa     reina\n",
       "48      niña  princesa\n",
       "49      niña     reina\n",
       "50     reina  princesa\n",
       "51     reina      niña"
      ]
     },
     "execution_count": 47,
     "metadata": {},
     "output_type": "execute_result"
    }
   ],
   "source": [
    "df.head(len(df))"
   ]
  },
  {
   "cell_type": "code",
   "execution_count": 48,
   "metadata": {},
   "outputs": [
    {
     "data": {
      "text/plain": [
       "(52, 2)"
      ]
     },
     "execution_count": 48,
     "metadata": {},
     "output_type": "execute_result"
    }
   ],
   "source": [
    "df.shape"
   ]
  },
  {
   "cell_type": "code",
   "execution_count": 49,
   "metadata": {},
   "outputs": [
    {
     "data": {
      "text/plain": [
       "{'fuerte': 8,\n",
       " 'hermosa': 0,\n",
       " 'hombre': 3,\n",
       " 'joven': 2,\n",
       " 'mujer': 7,\n",
       " 'niña': 11,\n",
       " 'niño': 1,\n",
       " 'princesa': 5,\n",
       " 'principe': 4,\n",
       " 'reina': 6,\n",
       " 'rey': 10,\n",
       " 'sabia': 9}"
      ]
     },
     "execution_count": 49,
     "metadata": {},
     "output_type": "execute_result"
    }
   ],
   "source": [
    "word2int"
   ]
  },
  {
   "cell_type": "markdown",
   "metadata": {},
   "source": [
    "# Define Tensorflow Graph"
   ]
  },
  {
   "cell_type": "code",
   "execution_count": 50,
   "metadata": {},
   "outputs": [],
   "source": [
    "ONE_HOT_DIM = len(words)\n",
    "\n",
    "# function to convert numbers to one hot vectors\n",
    "def to_one_hot_encoding(data_point_index):\n",
    "    one_hot_encoding = np.zeros(ONE_HOT_DIM)\n",
    "    one_hot_encoding[data_point_index] = 1\n",
    "    return one_hot_encoding\n",
    "\n",
    "X = [] # input word\n",
    "Y = [] # target word\n",
    "#print(\"Word2Int: \",word2int)\n",
    "#Se hacen los vectores por palabra de [1,0,0,0,...,0]\n",
    "#El 1 va en la posicion de la palabra segun el vocabulario\n",
    "for x, y in zip(df['input'], df['neighbor']):\n",
    "    X.append(to_one_hot_encoding(word2int[ x ]))\n",
    "    Y.append(to_one_hot_encoding(word2int[ y ]))\n",
    "#print(\"X\\n\",X)\n",
    "#print(\"Y\\n\",Y)\n",
    "\n",
    "# convert them to numpy arrays\n",
    "X_train = np.asarray(X)\n",
    "Y_train = np.asarray(Y)\n",
    "#print(\"X: \",len(X_train),\"\\n\",X_train)\n",
    "#print(\"Y\",len(Y_train),\"\\n\",Y_train)\n",
    "\n",
    "\n",
    "# making placeholders for X_train and Y_train\n",
    "x = tf.placeholder(tf.float32, shape=(None, ONE_HOT_DIM))\n",
    "y_label = tf.placeholder(tf.float32, shape=(None, ONE_HOT_DIM))\n",
    "\n",
    "# word embedding will be 2 dimension for 2d visualization\n",
    "EMBEDDING_DIM = 2 \n",
    "\n",
    "# hidden layer: which represents word vector eventually\n",
    "W1 = tf.Variable(tf.random_normal([ONE_HOT_DIM, EMBEDDING_DIM]))\n",
    "b1 = tf.Variable(tf.random_normal([1])) #bias\n",
    "hidden_layer = tf.add(tf.matmul(x,W1), b1)\n",
    "\n",
    "# output layer\n",
    "W2 = tf.Variable(tf.random_normal([EMBEDDING_DIM, ONE_HOT_DIM]))\n",
    "b2 = tf.Variable(tf.random_normal([1]))\n",
    "prediction = tf.nn.softmax(tf.add( tf.matmul(hidden_layer, W2), b2))\n",
    "\n",
    "# loss function: cross entropy\n",
    "loss = tf.reduce_mean(-tf.reduce_sum(y_label * tf.log(prediction), axis=[1]))\n",
    "\n",
    "# training operation\n",
    "train_op = tf.train.GradientDescentOptimizer(0.05).minimize(loss)"
   ]
  },
  {
   "cell_type": "code",
   "execution_count": 51,
   "metadata": {},
   "outputs": [
    {
     "name": "stdout",
     "output_type": "stream",
     "text": [
      "iteration 0 loss is :  3.451612\n",
      "iteration 3000 loss is :  1.9018471\n",
      "iteration 6000 loss is :  1.7979958\n",
      "iteration 9000 loss is :  1.7687776\n",
      "iteration 12000 loss is :  1.7516694\n",
      "iteration 15000 loss is :  1.7395948\n",
      "iteration 18000 loss is :  1.7306601\n",
      "iteration 21000 loss is :  1.7239089\n",
      "iteration 24000 loss is :  1.718632\n"
     ]
    }
   ],
   "source": [
    "sess = tf.Session()\n",
    "init = tf.global_variables_initializer()\n",
    "sess.run(init) \n",
    "\n",
    "iteration = 25000\n",
    "for i in range(iteration):\n",
    "    # input is X_train which is one hot encoded word\n",
    "    # label is Y_train which is one hot encoded neighbor word\n",
    "    sess.run(train_op, feed_dict={x: X_train, y_label: Y_train})\n",
    "    if i % 3000 == 0:\n",
    "        print('iteration '+str(i)+' loss is : ', sess.run(loss, feed_dict={x: X_train, y_label: Y_train}))"
   ]
  },
  {
   "cell_type": "code",
   "execution_count": 52,
   "metadata": {},
   "outputs": [
    {
     "name": "stdout",
     "output_type": "stream",
     "text": [
      "[3.1482608 3.0260348]\n"
     ]
    }
   ],
   "source": [
    "# Now the hidden layer (W1 + b1) is actually the word look up table\n",
    "vectors = sess.run(W1 + b1)\n",
    "print(vectors[0])"
   ]
  },
  {
   "cell_type": "markdown",
   "metadata": {},
   "source": [
    "# word vector in table"
   ]
  },
  {
   "cell_type": "code",
   "execution_count": 20,
   "metadata": {},
   "outputs": [
    {
     "data": {
      "text/html": [
       "<div>\n",
       "<style>\n",
       "    .dataframe thead tr:only-child th {\n",
       "        text-align: right;\n",
       "    }\n",
       "\n",
       "    .dataframe thead th {\n",
       "        text-align: left;\n",
       "    }\n",
       "\n",
       "    .dataframe tbody tr th {\n",
       "        vertical-align: top;\n",
       "    }\n",
       "</style>\n",
       "<table border=\"1\" class=\"dataframe\">\n",
       "  <thead>\n",
       "    <tr style=\"text-align: right;\">\n",
       "      <th></th>\n",
       "      <th>word</th>\n",
       "      <th>x1</th>\n",
       "      <th>x2</th>\n",
       "    </tr>\n",
       "  </thead>\n",
       "  <tbody>\n",
       "    <tr>\n",
       "      <th>0</th>\n",
       "      <td>hermosa</td>\n",
       "      <td>3.217421</td>\n",
       "      <td>3.966009</td>\n",
       "    </tr>\n",
       "    <tr>\n",
       "      <th>1</th>\n",
       "      <td>niño</td>\n",
       "      <td>0.284048</td>\n",
       "      <td>-0.864716</td>\n",
       "    </tr>\n",
       "    <tr>\n",
       "      <th>2</th>\n",
       "      <td>joven</td>\n",
       "      <td>-1.023136</td>\n",
       "      <td>0.287757</td>\n",
       "    </tr>\n",
       "    <tr>\n",
       "      <th>3</th>\n",
       "      <td>hombre</td>\n",
       "      <td>1.980738</td>\n",
       "      <td>-4.724194</td>\n",
       "    </tr>\n",
       "    <tr>\n",
       "      <th>4</th>\n",
       "      <td>principe</td>\n",
       "      <td>1.269565</td>\n",
       "      <td>-3.146264</td>\n",
       "    </tr>\n",
       "    <tr>\n",
       "      <th>5</th>\n",
       "      <td>princesa</td>\n",
       "      <td>1.172249</td>\n",
       "      <td>1.107270</td>\n",
       "    </tr>\n",
       "    <tr>\n",
       "      <th>6</th>\n",
       "      <td>reina</td>\n",
       "      <td>0.738012</td>\n",
       "      <td>0.732875</td>\n",
       "    </tr>\n",
       "    <tr>\n",
       "      <th>7</th>\n",
       "      <td>mujer</td>\n",
       "      <td>0.398982</td>\n",
       "      <td>0.376532</td>\n",
       "    </tr>\n",
       "    <tr>\n",
       "      <th>8</th>\n",
       "      <td>fuerte</td>\n",
       "      <td>-4.184947</td>\n",
       "      <td>-1.889189</td>\n",
       "    </tr>\n",
       "    <tr>\n",
       "      <th>9</th>\n",
       "      <td>una</td>\n",
       "      <td>-1.333821</td>\n",
       "      <td>3.151918</td>\n",
       "    </tr>\n",
       "    <tr>\n",
       "      <th>10</th>\n",
       "      <td>un</td>\n",
       "      <td>0.445276</td>\n",
       "      <td>-3.415241</td>\n",
       "    </tr>\n",
       "    <tr>\n",
       "      <th>11</th>\n",
       "      <td>sabia</td>\n",
       "      <td>3.187854</td>\n",
       "      <td>4.691231</td>\n",
       "    </tr>\n",
       "    <tr>\n",
       "      <th>12</th>\n",
       "      <td>rey</td>\n",
       "      <td>0.416739</td>\n",
       "      <td>-0.998266</td>\n",
       "    </tr>\n",
       "    <tr>\n",
       "      <th>13</th>\n",
       "      <td>niña</td>\n",
       "      <td>1.592530</td>\n",
       "      <td>1.639245</td>\n",
       "    </tr>\n",
       "  </tbody>\n",
       "</table>\n",
       "</div>"
      ],
      "text/plain": [
       "        word        x1        x2\n",
       "0    hermosa  3.217421  3.966009\n",
       "1       niño  0.284048 -0.864716\n",
       "2      joven -1.023136  0.287757\n",
       "3     hombre  1.980738 -4.724194\n",
       "4   principe  1.269565 -3.146264\n",
       "5   princesa  1.172249  1.107270\n",
       "6      reina  0.738012  0.732875\n",
       "7      mujer  0.398982  0.376532\n",
       "8     fuerte -4.184947 -1.889189\n",
       "9        una -1.333821  3.151918\n",
       "10        un  0.445276 -3.415241\n",
       "11     sabia  3.187854  4.691231\n",
       "12       rey  0.416739 -0.998266\n",
       "13      niña  1.592530  1.639245"
      ]
     },
     "execution_count": 20,
     "metadata": {},
     "output_type": "execute_result"
    }
   ],
   "source": [
    "w2v_df = pd.DataFrame(vectors, columns = ['x1', 'x2'])\n",
    "w2v_df['word'] = words\n",
    "w2v_df = w2v_df[['word', 'x1', 'x2']]\n",
    "w2v_df"
   ]
  },
  {
   "cell_type": "markdown",
   "metadata": {},
   "source": [
    "# word vector in 2d chart"
   ]
  },
  {
   "cell_type": "code",
   "execution_count": 22,
   "metadata": {},
   "outputs": [
    {
     "data": {
      "image/png": "[encoded data removed]",
      "text/plain": [
       "<matplotlib.figure.Figure at 0x24b27e6ab70>"
      ]
     },
     "metadata": {},
     "output_type": "display_data"
    }
   ],
   "source": [
    "import matplotlib.pyplot as plt\n",
    "\n",
    "fig, ax = plt.subplots()\n",
    "\n",
    "for word, x1, x2 in zip(w2v_df['word'], w2v_df['x1'], w2v_df['x2']):\n",
    "    ax.annotate(word, (x1,x2 ))\n",
    "    \n",
    "PADDING = 1.0\n",
    "x_axis_min = np.amin(vectors, axis=0)[0] - PADDING\n",
    "y_axis_min = np.amin(vectors, axis=0)[1] - PADDING\n",
    "x_axis_max = np.amax(vectors, axis=0)[0] + PADDING\n",
    "y_axis_max = np.amax(vectors, axis=0)[1] + PADDING\n",
    " \n",
    "plt.xlim(x_axis_min,x_axis_max)\n",
    "plt.ylim(y_axis_min,y_axis_max)\n",
    "plt.rcParams[\"figure.figsize\"] = (15,15)\n",
    "\n",
    "plt.show()"
   ]
  },
  {
   "cell_type": "code",
   "execution_count": 23,
   "metadata": {},
   "outputs": [
    {
     "data": {
      "text/html": [
       "<div>\n",
       "<style>\n",
       "    .dataframe thead tr:only-child th {\n",
       "        text-align: right;\n",
       "    }\n",
       "\n",
       "    .dataframe thead th {\n",
       "        text-align: left;\n",
       "    }\n",
       "\n",
       "    .dataframe tbody tr th {\n",
       "        vertical-align: top;\n",
       "    }\n",
       "</style>\n",
       "<table border=\"1\" class=\"dataframe\">\n",
       "  <thead>\n",
       "    <tr style=\"text-align: right;\">\n",
       "      <th></th>\n",
       "      <th>word</th>\n",
       "      <th>x1</th>\n",
       "      <th>x2</th>\n",
       "    </tr>\n",
       "  </thead>\n",
       "  <tbody>\n",
       "    <tr>\n",
       "      <th>0</th>\n",
       "      <td>hermosa</td>\n",
       "      <td>3.217421</td>\n",
       "      <td>3.966009</td>\n",
       "    </tr>\n",
       "    <tr>\n",
       "      <th>1</th>\n",
       "      <td>niño</td>\n",
       "      <td>0.284048</td>\n",
       "      <td>-0.864716</td>\n",
       "    </tr>\n",
       "    <tr>\n",
       "      <th>2</th>\n",
       "      <td>joven</td>\n",
       "      <td>-1.023136</td>\n",
       "      <td>0.287757</td>\n",
       "    </tr>\n",
       "    <tr>\n",
       "      <th>3</th>\n",
       "      <td>hombre</td>\n",
       "      <td>1.980738</td>\n",
       "      <td>-4.724194</td>\n",
       "    </tr>\n",
       "    <tr>\n",
       "      <th>4</th>\n",
       "      <td>principe</td>\n",
       "      <td>1.269565</td>\n",
       "      <td>-3.146264</td>\n",
       "    </tr>\n",
       "    <tr>\n",
       "      <th>5</th>\n",
       "      <td>princesa</td>\n",
       "      <td>1.172249</td>\n",
       "      <td>1.107270</td>\n",
       "    </tr>\n",
       "    <tr>\n",
       "      <th>6</th>\n",
       "      <td>reina</td>\n",
       "      <td>0.738012</td>\n",
       "      <td>0.732875</td>\n",
       "    </tr>\n",
       "    <tr>\n",
       "      <th>7</th>\n",
       "      <td>mujer</td>\n",
       "      <td>0.398982</td>\n",
       "      <td>0.376532</td>\n",
       "    </tr>\n",
       "    <tr>\n",
       "      <th>8</th>\n",
       "      <td>fuerte</td>\n",
       "      <td>-4.184947</td>\n",
       "      <td>-1.889189</td>\n",
       "    </tr>\n",
       "    <tr>\n",
       "      <th>9</th>\n",
       "      <td>una</td>\n",
       "      <td>-1.333821</td>\n",
       "      <td>3.151918</td>\n",
       "    </tr>\n",
       "    <tr>\n",
       "      <th>10</th>\n",
       "      <td>un</td>\n",
       "      <td>0.445276</td>\n",
       "      <td>-3.415241</td>\n",
       "    </tr>\n",
       "    <tr>\n",
       "      <th>11</th>\n",
       "      <td>sabia</td>\n",
       "      <td>3.187854</td>\n",
       "      <td>4.691231</td>\n",
       "    </tr>\n",
       "    <tr>\n",
       "      <th>12</th>\n",
       "      <td>rey</td>\n",
       "      <td>0.416739</td>\n",
       "      <td>-0.998266</td>\n",
       "    </tr>\n",
       "    <tr>\n",
       "      <th>13</th>\n",
       "      <td>niña</td>\n",
       "      <td>1.592530</td>\n",
       "      <td>1.639245</td>\n",
       "    </tr>\n",
       "  </tbody>\n",
       "</table>\n",
       "</div>"
      ],
      "text/plain": [
       "        word        x1        x2\n",
       "0    hermosa  3.217421  3.966009\n",
       "1       niño  0.284048 -0.864716\n",
       "2      joven -1.023136  0.287757\n",
       "3     hombre  1.980738 -4.724194\n",
       "4   principe  1.269565 -3.146264\n",
       "5   princesa  1.172249  1.107270\n",
       "6      reina  0.738012  0.732875\n",
       "7      mujer  0.398982  0.376532\n",
       "8     fuerte -4.184947 -1.889189\n",
       "9        una -1.333821  3.151918\n",
       "10        un  0.445276 -3.415241\n",
       "11     sabia  3.187854  4.691231\n",
       "12       rey  0.416739 -0.998266\n",
       "13      niña  1.592530  1.639245"
      ]
     },
     "execution_count": 23,
     "metadata": {},
     "output_type": "execute_result"
    }
   ],
   "source": [
    "word2dic = word2int\n",
    "w2v_df"
   ]
  },
  {
   "cell_type": "code",
   "execution_count": 24,
   "metadata": {
    "collapsed": true
   },
   "outputs": [],
   "source": [
    "def Distance(w2v_df,word2dic,w1,w2):\n",
    "    x1,y1 = w2v_df['x1'][word2dic[w1]],w2v_df['x2'][word2dic[w1]]\n",
    "    x2,y2 = w2v_df['x1'][word2dic[w2]],w2v_df['x2'][word2dic[w2]]\n",
    "    return ((y2-y1)**2+(x2-x1)**2)**.5\n",
    "\n",
    "def KNN(K,w2v_df,word2dic,w):\n",
    "    idw = word2dic[w]\n",
    "    distances = []\n",
    "    for i in range(len(word2dic)):\n",
    "        wdist = []\n",
    "        if i != idw:\n",
    "            wdist.append(w2v_df['word'][i])\n",
    "            wdist.append(Distance(w2v_df,word2dic,w,w2v_df['word'][i]))\n",
    "            distances.append(wdist)\n",
    "        \n",
    "    distances = sorted(distances, key=lambda distance: distance[1])\n",
    "    return distances[:K]\n",
    "        "
   ]
  },
  {
   "cell_type": "code",
   "execution_count": 26,
   "metadata": {},
   "outputs": [
    {
     "name": "stdout",
     "output_type": "stream",
     "text": [
      "Distancia:  0.6779633503387493\n"
     ]
    }
   ],
   "source": [
    "dist = Distance(w2v_df,word2dic,'niña','princesa')\n",
    "print(\"Distancia: \",dist)"
   ]
  },
  {
   "cell_type": "code",
   "execution_count": 27,
   "metadata": {},
   "outputs": [
    {
     "data": {
      "text/plain": [
       "[['princesa', 0.6779633503387493],\n",
       " ['reina', 1.24567555866552],\n",
       " ['mujer', 1.737527020916081],\n",
       " ['niño', 2.8252344545098644],\n",
       " ['hermosa', 2.8379744057958]]"
      ]
     },
     "execution_count": 27,
     "metadata": {},
     "output_type": "execute_result"
    }
   ],
   "source": [
    "KNN(5,w2v_df,word2dic,\"niña\")\n",
    "#neighbors = KNN(5,w2v_df,word2dic,\"rey\")\n",
    "#print(neighbors)"
   ]
  },
  {
   "cell_type": "code",
   "execution_count": null,
   "metadata": {
    "collapsed": true
   },
   "outputs": [],
   "source": []
  }
 ],
 "metadata": {
  "kernelspec": {
   "display_name": "Python 3",
   "language": "python",
   "name": "python3"
  },
  "language_info": {
   "codemirror_mode": {
    "name": "ipython",
    "version": 3
   },
   "file_extension": ".py",
   "mimetype": "text/x-python",
   "name": "python",
   "nbconvert_exporter": "python",
   "pygments_lexer": "ipython3",
   "version": "3.6.3"
  }
 },
 "nbformat": 4,
 "nbformat_minor": 2
}
