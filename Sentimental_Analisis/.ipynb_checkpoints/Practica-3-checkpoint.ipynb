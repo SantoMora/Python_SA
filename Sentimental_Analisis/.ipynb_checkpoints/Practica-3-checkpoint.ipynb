{
 "cells": [
  {
   "cell_type": "code",
   "execution_count": 1,
   "metadata": {
    "collapsed": true
   },
   "outputs": [],
   "source": [
    "import nltk\n",
    "import random\n",
    "import pickle\n",
    "import nltk.classify.util\n",
    "from nltk.classify import NaiveBayesClassifier\n",
    "from nltk.corpus import movie_reviews\n",
    "from nltk.corpus import stopwords\n",
    "from nltk.tokenize import word_tokenize\n",
    "from nltk.classify.scikitlearn import SklearnClassifier\n",
    "from sklearn.naive_bayes import MultinomialNB, GaussianNB, BernoulliNB\n",
    "from sklearn.linear_model import LogisticRegression, SGDClassifier\n",
    "from sklearn.svm import SVC, LinearSVC, NuSVC\n",
    "from nltk.classify import ClassifierI\n",
    "from statistics import mode  \n",
    "import matplotlib.pyplot as plt\n",
    "from html.parser import HTMLParser"
   ]
  },
  {
   "cell_type": "code",
   "execution_count": 2,
   "metadata": {
    "collapsed": true
   },
   "outputs": [],
   "source": [
    "class VoteClassifier(ClassifierI):\n",
    "    def __init__(self, *classifiers):\n",
    "        self.classifiers = classifiers\n",
    "    \n",
    "    def classify(self, features): #Se realiza la votacion de que tipo es, pos o neg\n",
    "        votes = []\n",
    "        for c in self.classifiers:\n",
    "            v = c.classify(features)\n",
    "            votes.append(v)\n",
    "            #print(votes)\n",
    "        return mode(votes)\n",
    "    \n",
    "    def confidence(self, features):\n",
    "        votes = []\n",
    "        for c in self.classifiers:\n",
    "            v = c.classify(features)\n",
    "            votes.append(v)\n",
    "            #print(votes)\n",
    "        choice_votes = votes.count(mode(votes))\n",
    "        print(choice_votes)\n",
    "        conf = choice_votes / len(votes)\n",
    "        return conf\n",
    "class MLStripper(HTMLParser):\n",
    "    def __init__(self):\n",
    "        self.reset()\n",
    "        self.strict = False\n",
    "        self.convert_charrefs= True\n",
    "        self.fed = []\n",
    "    def handle_data(self, d):\n",
    "        self.fed.append(d)\n",
    "    def get_data(self):\n",
    "        return ''.join(self.fed)\n",
    "\n",
    "def strip_tags(html):\n",
    "    s = MLStripper()\n",
    "    s.feed(html)\n",
    "    return s.get_data()"
   ]
  },
  {
   "cell_type": "code",
   "execution_count": 3,
   "metadata": {
    "collapsed": true
   },
   "outputs": [],
   "source": [
    "def accuracy(classifier,testing_set):\n",
    "    print(\"Original Algoritmo Naive Bayes accuracy:\",(nltk.classify.accuracy(classifier, testing_set))*100)\n",
    "    #classifier.show_most_informative_features(15)\n",
    "\n",
    "    MNB_classifier = SklearnClassifier(MultinomialNB())\n",
    "    MNB_classifier.train(training_set)\n",
    "    print(\"MNB_classifier Algoritmo Naive Bayes accuracy:\",(nltk.classify.accuracy(MNB_classifier, testing_set))*100)\n",
    "\n",
    "    BernoulliNB_classifier = SklearnClassifier(BernoulliNB())\n",
    "    BernoulliNB_classifier.train(training_set)\n",
    "    print(\"BernoulliNB_classifier Algoritmo Naive Bayes accuracy:\",(nltk.classify.accuracy(BernoulliNB_classifier, testing_set))*100)\n",
    "\n",
    "    #save_classifier = open(\"naivebayes.pickle\",\"wb\")\n",
    "    #pickle.dump(classifier, save_classifier)\n",
    "    #save_classifier.close()\n",
    "\n",
    "    LogisticRegression_classifier = SklearnClassifier(LogisticRegression())\n",
    "    LogisticRegression_classifier.train(training_set)\n",
    "    print(\"Algoritmo LogisticRegression_classifier accuracy:\",(nltk.classify.accuracy(LogisticRegression_classifier, testing_set))*100)\n",
    "\n",
    "    SGDClassifier_classifier = SklearnClassifier(SGDClassifier())\n",
    "    SGDClassifier_classifier.train(training_set)\n",
    "    print(\"Algoritmo SGDClassifier_classifier accuracy:\",(nltk.classify.accuracy(SGDClassifier_classifier, testing_set))*100)\n",
    "\n",
    "    SVC_classifier = SklearnClassifier(SVC())\n",
    "    SVC_classifier.train(training_set)\n",
    "    print(\"Algoritmo SVC_classifier accuracy:\",(nltk.classify.accuracy(SVC_classifier, testing_set))*100)\n",
    "\n",
    "    LinearSVC_classifier = SklearnClassifier(LinearSVC())\n",
    "    LinearSVC_classifier.train(training_set)\n",
    "    print(\"Algoritmo LinearSVC_classifier accuracy:\",(nltk.classify.accuracy(LinearSVC_classifier, testing_set))*100)\n",
    "\n",
    "    NuSVC_classifier = SklearnClassifier(NuSVC())\n",
    "    NuSVC_classifier.train(training_set)\n",
    "    print(\"Algoritmo NuSVC_classifier accuracy:\",(nltk.classify.accuracy(NuSVC_classifier, testing_set))*100)\n",
    "    return MNB_classifier,BernoulliNB_classifier,LogisticRegression_classifier,SGDClassifier_classifier,SVC_classifier,NuSVC_classifier"
   ]
  },
  {
   "cell_type": "code",
   "execution_count": 4,
   "metadata": {
    "collapsed": true
   },
   "outputs": [],
   "source": [
    "def Clasificadores(review,classifier,testing_set,MNB_classifier,BernoulliNB_classifier,LogisticRegression_classifier, SGDClassifier_classifier,SVC_classifier,NuSVC_classifier):\n",
    "    voted_cassifier = VoteClassifier(classifier,MNB_classifier,BernoulliNB_classifier,LogisticRegression_classifier,\n",
    "                                     SGDClassifier_classifier,SVC_classifier,NuSVC_classifier)#,LinearSVC_classifier)\n",
    "    print(\"voted_cassifier accuracy percent:\",(nltk.classify.accuracy(voted_cassifier, testing_set))*100)\n",
    "\n",
    "    print(\"Clasificacion:\", voted_cassifier.classify(review), \"Confianza %:\",\n",
    "          voted_cassifier.confidence(review)*100)\n",
    "    return voted_cassifier.classify(review)"
   ]
  },
  {
   "cell_type": "code",
   "execution_count": 5,
   "metadata": {
    "collapsed": true
   },
   "outputs": [],
   "source": [
    "def find_features(documet):\n",
    "    words = set(documet)\n",
    "    features = {}\n",
    "    for w in word_features:\n",
    "        features[w] = (w in words)\n",
    "    return features"
   ]
  },
  {
   "cell_type": "code",
   "execution_count": 7,
   "metadata": {},
   "outputs": [
    {
     "name": "stdout",
     "output_type": "stream",
     "text": [
      "Original Algoritmo Naive Bayes accuracy: 91.60000000000001\n",
      "MNB_classifier Algoritmo Naive Bayes accuracy: 83.39999999999999\n",
      "BernoulliNB_classifier Algoritmo Naive Bayes accuracy: 83.2\n",
      "Algoritmo LogisticRegression_classifier accuracy: 85.8\n"
     ]
    },
    {
     "name": "stderr",
     "output_type": "stream",
     "text": [
      "C:\\Users\\santiago\\Anaconda3\\lib\\site-packages\\sklearn\\linear_model\\stochastic_gradient.py:128: FutureWarning: max_iter and tol parameters have been added in <class 'sklearn.linear_model.stochastic_gradient.SGDClassifier'> in 0.19. If both are left unset, they default to max_iter=5 and tol=None. If tol is not None, max_iter defaults to max_iter=1000. From 0.21, default max_iter will be 1000, and default tol will be 1e-3.\n",
      "  \"and default tol will be 1e-3.\" % type(self), FutureWarning)\n"
     ]
    },
    {
     "name": "stdout",
     "output_type": "stream",
     "text": [
      "Algoritmo SGDClassifier_classifier accuracy: 83.0\n",
      "Algoritmo SVC_classifier accuracy: 45.800000000000004\n",
      "Algoritmo LinearSVC_classifier accuracy: 83.0\n",
      "Algoritmo NuSVC_classifier accuracy: 86.0\n"
     ]
    }
   ],
   "source": [
    "documents = [(list(movie_reviews.words(fileid)), category) for category in movie_reviews.categories() \n",
    "             for fileid in movie_reviews.fileids(category)]\n",
    "\n",
    "random.shuffle(documents)\n",
    "\n",
    "all_words = []\n",
    "for w in movie_reviews.words():\n",
    "    all_words.append(w.lower())\n",
    "    \n",
    "all_words = nltk.FreqDist(all_words) #Frecuencia de distribucion\n",
    "\n",
    "word_features = list(all_words.keys())[:10000]\n",
    "\n",
    "featuresets = [(find_features(rev), category) for (rev,category) in documents]\n",
    "\n",
    "#Tercera parte de arriba\n",
    "    \n",
    "training_set = featuresets[:1500]\n",
    "testing_set = featuresets[1500:]\n",
    "classifier_f = open(\"naivebayes.pickle\", \"rb\")\n",
    "classifier = pickle.load(classifier_f)\n",
    "classifier_f.close()\n",
    "MNB_classifier,BernoulliNB_classifier,LogisticRegression_classifier,SGDClassifier_classifier,SVC_classifier,NuSVC_classifier = accuracy(classifier,testing_set)\n",
    "#Clasificadores(testing_set[0][0],classifier,testing_set)"
   ]
  },
  {
   "cell_type": "code",
   "execution_count": 8,
   "metadata": {},
   "outputs": [
    {
     "data": {
      "image/png": "[encoded data removed]",
      "text/plain": [
       "<matplotlib.figure.Figure at 0x221b99fcc88>"
      ]
     },
     "metadata": {},
     "output_type": "display_data"
    }
   ],
   "source": [
    "x = [1]\n",
    "NB = nltk.classify.accuracy(classifier, testing_set)*100\n",
    "x2 = [2]\n",
    "MNB = nltk.classify.accuracy(MNB_classifier, testing_set)*100\n",
    "x3 = [3]\n",
    "BNB = nltk.classify.accuracy(BernoulliNB_classifier, testing_set)*100\n",
    "x4 = [4]\n",
    "LR = nltk.classify.accuracy(LogisticRegression_classifier, testing_set)*100\n",
    "x5 = [5]\n",
    "SGDC = nltk.classify.accuracy(SGDClassifier_classifier, testing_set)*100\n",
    "x6 = [6]\n",
    "SVC = nltk.classify.accuracy(SVC_classifier, testing_set)*100\n",
    "#x7 = [7]\n",
    "#LSVC = nltk.classify.accuracy(LinearSVC_classifier, testing_set)*100\n",
    "x7 = [7]\n",
    "NuSVC = nltk.classify.accuracy(NuSVC_classifier, testing_set)*100\n",
    "\n",
    "plt.bar(x, NB, label='NB', color='green')\n",
    "plt.bar(x2, MNB, label='MNB', color='red')\n",
    "plt.bar(x3, BNB, label='BNB', color='blue')\n",
    "plt.bar(x4, LR, label='LR', color='black')\n",
    "plt.bar(x5, SGDC, label='SGDC', color='yellow')\n",
    "plt.bar(x6, SVC, label='SVC', color='gray')\n",
    "#plt.bar(x7, LSVC, label='LSVC', color='purple')\n",
    "plt.bar(x7, NuSVC, label='NuSVC', color='orange')\n",
    "\n",
    "plt.xlabel('Clasificador')\n",
    "plt.ylabel('accuracy')\n",
    "plt.title('Exactitud')\n",
    "plt.legend()\n",
    "plt.show()"
   ]
  },
  {
   "cell_type": "code",
   "execution_count": null,
   "metadata": {
    "collapsed": true
   },
   "outputs": [],
   "source": [
    "stop_words = set(stopwords.words(\"english\"))\n",
    "\n",
    "archivo = open(\"reviews.txt\").read()\n",
    "reviews=[]\n",
    "stars=[]\n",
    "for linea in archivo.split(\"<div class=\\\"text show-more__control clickable\\\">\"):\n",
    "    linea=linea.split(\"</div>\")\n",
    "    linea[0]=strip_tags(linea[0])\n",
    "    reviews.append(linea[0])\n",
    "    \n",
    "    \n",
    "for linea in archivo.split(\"<div class=\\\"text show-more__control\\\">\"):\n",
    "    linea=linea.split(\"</div>\")\n",
    "    linea[0]=strip_tags(linea[0])\n",
    "    reviews.append(linea[0])\n",
    "    \n",
    "for linea in archivo.split(\"<span>10</span><span class=\\\"point-scale\\\">/10\"):\n",
    "    linea=linea.split(\"</span>\")\n",
    "    stars.append(\"10\")\n",
    "    \n",
    "for linea in archivo.split(\"<span>9</span><span class=\\\"point-scale\\\">/10\"):\n",
    "    linea=linea.split(\"</span>\")\n",
    "    stars.append(\"9\")\n",
    "    \n",
    "for linea in archivo.split(\"<span>8</span><span class=\\\"point-scale\\\">10\"):\n",
    "    linea=linea.split(\"</span>\")\n",
    "    stars.append(\"8\")\n",
    "\n",
    "for linea in archivo.split(\"<span>7</span><span class=\\\"point-scale\\\">/10\"):\n",
    "    linea=linea.split(\"</span>\")\n",
    "    stars.append(\"7\")\n",
    "\n",
    "for linea in archivo.split(\"<span>6</span><span class=\\\"point-scale\\\">/10\"):\n",
    "    linea=linea.split(\"</span>\")\n",
    "    stars.append(\"6\")\n",
    "    \n",
    "for linea in archivo.split(\"<span>5</span><span class=\\\"point-scale\\\">/10\"):\n",
    "    linea=linea.split(\"</span>\")\n",
    "    stars.append(\"5\")\n",
    "\n",
    "for linea in archivo.split(\"<span>4</span><span class=\\\"point-scale\\\">/10\"):\n",
    "    linea=linea.split(\"</span>\")\n",
    "    stars.append(\"4\")\n",
    "\n",
    "for linea in archivo.split(\"<span>3</span><span class=\\\"point-scale\\\">/10\"):\n",
    "    linea=linea.split(\"</span>\")\n",
    "    stars.append(\"3\")\n",
    "\n",
    "for linea in archivo.split(\"<span>2</span><span class=\\\"point-scale\\\">/10\"):\n",
    "    linea=linea.split(\"</span>\")\n",
    "    stars.append(\"2\")\n",
    "\n",
    "for linea in archivo.split(\"<span>1</span><span class=\\\"point-scale\\\">/10\"):\n",
    "    linea=linea.split(\"</span>\")\n",
    "    stars.append(\"1\")\n",
    "    \n",
    "sum=0\n",
    "\n",
    "for i in range(1,len(stars)):\n",
    "        sum=sum+int(stars[i])\n",
    "        \n",
    "prom=sum/len(stars)\n",
    "stars.pop(0)\n",
    "reviews.pop(0)\n",
    "clas = []\n",
    "#print(deep[0])\n",
    "for review in reviews:\n",
    "    review = word_tokenize(review)\n",
    "    words = [w for w in review if w not in stop_words]\n",
    "    review = find_features(words)\n",
    "    clas.append(Clasificadores(review,classifier,testing_set,MNB_classifier,BernoulliNB_classifier,LogisticRegression_classifier,SGDClassifier_classifier,SVC_classifier,NuSVC_classifier))\n",
    "print(clas)   "
   ]
  },
  {
   "cell_type": "code",
   "execution_count": 18,
   "metadata": {},
   "outputs": [
    {
     "name": "stdout",
     "output_type": "stream",
     "text": [
      "[\"The scene where Fin cuts his way out of a 20,000 lb flying great white and then reaches back in to pull out the girl who was eaten in midair after falling out of a helicopter trying to throw a propane bottle into an F5 tornado had me laughing so hard the room turned black. It was the defining moment of the show. I'm supposed to write ten lines of text for this review, but I don't even think the script for the show was that long. I had to give it 7 out of ten because it was so bad it was good, then it swung to just being bad, but backed up to being so bad it was good again. My family bought snacks, beer and soda to watch this show. We laughed and groaned and made fun of it the whole way through.\"]\n"
     ]
    }
   ],
   "source": [
    "stop_words = set(stopwords.words(\"english\"))\n",
    "reviews=[]\n",
    "reviews.append('''The scene where Fin cuts his way out of a 20,000 lb flying great white and then reaches back in to pull out the girl who was eaten in midair after falling out of a helicopter trying to throw a propane bottle into an F5 tornado had me laughing so hard the room turned black. It was the defining moment of the show. I'm supposed to write ten lines of text for this review, but I don't even think the script for the show was that long. I had to give it 7 out of ten because it was so bad it was good, then it swung to just being bad, but backed up to being so bad it was good again. My family bought snacks, beer and soda to watch this show. We laughed and groaned and made fun of it the whole way through.''')\n",
    "print(reviews)"
   ]
  },
  {
   "cell_type": "code",
   "execution_count": 19,
   "metadata": {},
   "outputs": [
    {
     "name": "stdout",
     "output_type": "stream",
     "text": [
      "voted_cassifier accuracy percent: 87.2\n",
      "6\n",
      "Clasificacion: neg Confianza %: 85.71428571428571\n",
      "['neg']\n"
     ]
    }
   ],
   "source": [
    "clas = []\n",
    "for review in reviews:\n",
    "    review = word_tokenize(review)\n",
    "    words = [w for w in review if w not in stop_words]\n",
    "    review = find_features(words)\n",
    "    clas.append(Clasificadores(review,classifier,testing_set,MNB_classifier,BernoulliNB_classifier,LogisticRegression_classifier,SGDClassifier_classifier,SVC_classifier,NuSVC_classifier))\n",
    "print(clas)  "
   ]
  },
  {
   "cell_type": "code",
   "execution_count": 96,
   "metadata": {},
   "outputs": [
    {
     "data": {
      "image/png": "[encoded data removed]",
      "text/plain": [
       "<matplotlib.figure.Figure at 0x24956922208>"
      ]
     },
     "metadata": {},
     "output_type": "display_data"
    },
    {
     "name": "stdout",
     "output_type": "stream",
     "text": [
      "74\n",
      "Calificacion =  58.108108108108105\n"
     ]
    }
   ],
   "source": [
    "x = [1]\n",
    "y=0\n",
    "contp = 0\n",
    "for p in clas:\n",
    "    if p == 'pos':\n",
    "        contp+=1\n",
    "        y+=1\n",
    "pos = y\n",
    "\n",
    "x2 = [2]\n",
    "y2=0\n",
    "contn = 0\n",
    "for n in clas:\n",
    "    if n == 'neg':\n",
    "        contn+=1\n",
    "        y2+=1\n",
    "neg = y2\n",
    "plt.bar(x, y, label='Positivo', color='green')\n",
    "plt.bar(x2, y2, label='Negativo', color='red')\n",
    "\n",
    "plt.xlabel('x')\n",
    "plt.ylabel('y')\n",
    "plt.title('Santy')\n",
    "plt.legend()\n",
    "plt.show()\n",
    "print(len(clas))\n",
    "print(\"Calificacion = \",(contp/len(clas))*100)"
   ]
  },
  {
   "cell_type": "code",
   "execution_count": null,
   "metadata": {
    "collapsed": true
   },
   "outputs": [],
   "source": []
  }
 ],
 "metadata": {
  "kernelspec": {
   "display_name": "Python 3",
   "language": "python",
   "name": "python3"
  },
  "language_info": {
   "codemirror_mode": {
    "name": "ipython",
    "version": 3
   },
   "file_extension": ".py",
   "mimetype": "text/x-python",
   "name": "python",
   "nbconvert_exporter": "python",
   "pygments_lexer": "ipython3",
   "version": "3.6.3"
  }
 },
 "nbformat": 4,
 "nbformat_minor": 2
}
