{
 "cells": [
  {
   "cell_type": "markdown",
   "metadata": {},
   "source": [
    "## Analisis de Sentimientos\n",
    "\n",
    "#### Por: Mauricio Santiago Valdovinos Morales\n",
    "\n",
    "Clasificación de textos de opinión en español utilizando una red neuronal llamada Word2Vec."
   ]
  },
  {
   "cell_type": "code",
   "execution_count": null,
   "metadata": {},
   "outputs": [],
   "source": [
    "import pandas as pd\n",
    "import nltk\n",
    "import numpy as np\n",
    "from nltk.tokenize import word_tokenize, sent_tokenize\n",
    "import gensim\n",
    "from gensim.models import Word2Vec\n",
    "from gensim import corpora, models, similarities\n",
    "from os import path,listdir\n",
    "import pickle\n",
    "import time\n",
    "\n",
    "reviews_doc = \"data/reviews_f.dat\"\n",
    "reviews_doc_stop = \"data/reviews_with_stopwords.dat\"\n",
    "\n",
    "with open(\"data/stop_words_spanish.dat\", \"rb\") as f:\n",
    "            stop_wordsE = pickle.load(f)"
   ]
  },
  {
   "cell_type": "code",
   "execution_count": null,
   "metadata": {
    "collapsed": true
   },
   "outputs": [],
   "source": [
    "def save_data(file,dic):\n",
    "    with open(file, \"wb\") as f:\n",
    "        pickle.dump(dic, f)\n",
    "\n",
    "def load_data(file):\n",
    "    with open(file, \"rb\") as f:\n",
    "            return pickle.load(f)\n",
    "        \n",
    "def remove_stop_words(corpus):\n",
    "    results = []\n",
    "    for text in corpus:\n",
    "        sentence = []\n",
    "        for p in text:\n",
    "            if p not in stop_wordsE:\n",
    "                sentence.append(p)\n",
    "        results.append(sentence)\n",
    "    \n",
    "    return results\n",
    "\n",
    "def parser_review(path):\n",
    "    file = open(path).read()\n",
    "    dic = {'review':\"\",'review_clean':[],'sentiment': \"\"}\n",
    "    \n",
    "    #Rank\n",
    "    div = file.split(\"rank=\\\"\")\n",
    "    rank = div[1][0]\n",
    "\n",
    "    #Review\n",
    "    div = file.split(\"<body>\")\n",
    "    div = div[1].split(\"</body>\")\n",
    "    dic['review'] = div[0]\n",
    "    \n",
    "    #Sentiment\n",
    "    if rank == '1' or rank == '2':\n",
    "        dic['sentiment'] = 'negative'\n",
    "    elif rank == '3':\n",
    "        dic['sentiment'] = 'neutral'\n",
    "    else:\n",
    "        dic['sentiment'] = 'positive'\n",
    "    \n",
    "    return dic\n",
    "\n",
    "def list_reviews_features(dic):\n",
    "    list_corp = []\n",
    "    list_ranks = []\n",
    "    list_corp_clean = []\n",
    "    for r in range(len(dic)):\n",
    "        list_corp.append(dic[r]['review'])\n",
    "        list_ranks.append(dic[r]['sentiment'])\n",
    "        list_corp_clean.append(dic[r]['review_clean'])\n",
    "    return list_corp, list_ranks, list_corp_clean\n",
    "\n",
    "def w2v_input(revs):\n",
    "    w2v_int = []\n",
    "    for r in revs:\n",
    "        w2v_int.append(r['review_clean'])\n",
    "    return w2v_int\n",
    "    \n",
    "def create_sentiment_dic(vocabulary):\n",
    "    sentiments = {}\n",
    "    for word in vocabulary:\n",
    "        sentiments[word] = []\n",
    "    return sentiments\n",
    "\n",
    "def def_sentiments_words(vocabulary,reviews):\n",
    "    dic = create_sentiment_dic(vocabulary)\n",
    "    for doc in reviews:\n",
    "        word_sentiment = []\n",
    "        for rc in doc['review_clean']:\n",
    "            for sentence in rc:\n",
    "                for word in vocabulary:\n",
    "                    if word in sentence:\n",
    "                        if len(dic[word]) < 4 and doc['sentiment'] not in dic[word]:\n",
    "                            dic[word].append(doc['sentiment'])\n",
    "    return dic"
   ]
  },
  {
   "cell_type": "markdown",
   "metadata": {},
   "source": [
    "## Generando archivo con diccionarios de la reviews\n",
    "\n",
    "El diccionario tiene los siguientes campos:\n",
    " - Rank: Numero de estrellas de la review 1-5\n",
    " - Title: Titulo de la review\n",
    " - Summaty: pequeño resumen\n",
    " - Review: Critica\n",
    " - review_clean: review tokenizada y filtrada lista para el modelo Word2Vec"
   ]
  },
  {
   "cell_type": "code",
   "execution_count": null,
   "metadata": {
    "collapsed": true
   },
   "outputs": [],
   "source": [
    "def generate_reviews_doc():\n",
    "    docs = []\n",
    "    for f in sorted(listdir('Corpora')):\n",
    "        if f[len(f)-3:] == \"xml\":\n",
    "            f = path.join('Corpora',f)\n",
    "            docs.append(parser_review(f))\n",
    "    for review in docs:\n",
    "        review['review_clean'] = word_tokenize(review['review'])\n",
    "        for i in range(len(review['review_clean'])):\n",
    "            review['review_clean'][i]  = review['review_clean'][i].lower()\n",
    "        review['review_clean'] = [word for word in review['review_clean'] if word not in stop_wordsE]\n",
    "    save_data(reviews_doc,docs)"
   ]
  },
  {
   "cell_type": "code",
   "execution_count": null,
   "metadata": {
    "collapsed": true
   },
   "outputs": [],
   "source": [
    "generate_reviews_doc()"
   ]
  },
  {
   "cell_type": "code",
   "execution_count": null,
   "metadata": {},
   "outputs": [],
   "source": [
    "reviews = load_data(reviews_doc)\n",
    "len(reviews)"
   ]
  },
  {
   "cell_type": "markdown",
   "metadata": {},
   "source": [
    "## Definiendo lista de entrenamiento y prueba"
   ]
  },
  {
   "cell_type": "code",
   "execution_count": null,
   "metadata": {},
   "outputs": [],
   "source": [
    "point = int(len(reviews) * (4/5))\n",
    "train = reviews[:point]\n",
    "test = reviews[point:]\n",
    "print(\"Entrenamiento: \",len(train),\"Prueba: \",len(test))"
   ]
  },
  {
   "cell_type": "code",
   "execution_count": null,
   "metadata": {
    "collapsed": true
   },
   "outputs": [],
   "source": [
    "#Uniendo todas las oraciones en un vector para la entrada al modelo w2v\n",
    "w2v_in_train = w2v_input(train)\n",
    "w2v_in_test = w2v_input(test)"
   ]
  },
  {
   "cell_type": "markdown",
   "metadata": {},
   "source": [
    "## Entrenando el modelo word2vec"
   ]
  },
  {
   "cell_type": "code",
   "execution_count": null,
   "metadata": {},
   "outputs": [],
   "source": [
    "ts = time.time()\n",
    "w2v_model = Word2Vec(w2v_in_train+w2v_in_test, size=200, min_count=5, window=5, workers=4, sg=1)\n",
    "w2v_model.train(w2v_in_train,total_examples=len(w2v_in_train),epochs=1000)\n",
    "te = time.time()\n",
    "print(\"time: %.4fs\"%(te-ts))"
   ]
  },
  {
   "cell_type": "markdown",
   "metadata": {},
   "source": [
    "Guardando el modelo Word2Vec"
   ]
  },
  {
   "cell_type": "code",
   "execution_count": null,
   "metadata": {
    "collapsed": true
   },
   "outputs": [],
   "source": [
    "w2v_model.save('data/model_1000.bin')"
   ]
  },
  {
   "cell_type": "markdown",
   "metadata": {},
   "source": [
    "Cargando el modelo guardado"
   ]
  },
  {
   "cell_type": "code",
   "execution_count": null,
   "metadata": {
    "collapsed": true
   },
   "outputs": [],
   "source": [
    "w2v_model = Word2Vec.load('data/model_2.bin')"
   ]
  },
  {
   "cell_type": "markdown",
   "metadata": {},
   "source": [
    "Definiendo vocabulario entregado por w2v"
   ]
  },
  {
   "cell_type": "code",
   "execution_count": null,
   "metadata": {},
   "outputs": [],
   "source": [
    "vocabulary = list(w2v_model.wv.vocab)\n",
    "print(len(vocabulary))"
   ]
  },
  {
   "cell_type": "code",
   "execution_count": null,
   "metadata": {},
   "outputs": [],
   "source": [
    "vocabulary[15]"
   ]
  },
  {
   "cell_type": "code",
   "execution_count": null,
   "metadata": {},
   "outputs": [],
   "source": [
    "print(w2v_model.wv.distance('película','cine'))"
   ]
  },
  {
   "cell_type": "code",
   "execution_count": null,
   "metadata": {},
   "outputs": [],
   "source": [
    "w2v_model.wv.most_similar('obra')"
   ]
  },
  {
   "cell_type": "markdown",
   "metadata": {},
   "source": [
    "#### Diccionario de las palabras\n",
    "\n",
    "Diccionario con el indice de la palabra en el vocabulario"
   ]
  },
  {
   "cell_type": "code",
   "execution_count": 24,
   "metadata": {
    "collapsed": true
   },
   "outputs": [],
   "source": [
    "def vocab_dictionary(vocab):\n",
    "    dic_words = {}\n",
    "    i = 0\n",
    "    for w in vocab:\n",
    "        dic_words[w] = i\n",
    "        i+=1\n",
    "    return dic_words"
   ]
  },
  {
   "cell_type": "code",
   "execution_count": 25,
   "metadata": {},
   "outputs": [
    {
     "name": "stdout",
     "output_type": "stream",
     "text": [
      "20386\n"
     ]
    }
   ],
   "source": [
    "dic_words = vocab_dictionary(vocabulary)\n",
    "print(len(dic_words))"
   ]
  },
  {
   "cell_type": "markdown",
   "metadata": {},
   "source": [
    "#### Sentimientos a nivel de palabras\n",
    "\n",
    "Diccionario con la palabra y una lista de los sentimientos que pueden ser positive, negative, neutral <br>\n",
    "\n",
    "'word': ['positive', 'negative', 'neutral']"
   ]
  },
  {
   "cell_type": "code",
   "execution_count": null,
   "metadata": {},
   "outputs": [],
   "source": [
    "sentiments = def_sentiments_words(vocabulary,reviews)\n",
    "print(len(sentiments))"
   ]
  },
  {
   "cell_type": "markdown",
   "metadata": {},
   "source": [
    "Guardando el diccionario de sentimientos de las palabras"
   ]
  },
  {
   "cell_type": "code",
   "execution_count": null,
   "metadata": {
    "collapsed": true
   },
   "outputs": [],
   "source": [
    "save_data('data/sentiments_dic.dat',sentiments)"
   ]
  },
  {
   "cell_type": "markdown",
   "metadata": {},
   "source": [
    "Cargando el diccionario de sentimientos de las palabras"
   ]
  },
  {
   "cell_type": "code",
   "execution_count": 22,
   "metadata": {},
   "outputs": [
    {
     "name": "stdout",
     "output_type": "stream",
     "text": [
      "20386\n"
     ]
    }
   ],
   "source": [
    "sentiments = load_data('data/sentiments_dic.dat')\n",
    "print(len(sentiments))"
   ]
  },
  {
   "cell_type": "code",
   "execution_count": 26,
   "metadata": {},
   "outputs": [
    {
     "name": "stdout",
     "output_type": "stream",
     "text": [
      "peliculas\n",
      "[-0.05391616  0.12511624 -0.16612823 -0.02859952  0.07299291  0.11914804\n",
      "  0.13209113 -0.01050776  0.01666115  0.04777921  0.1631299   0.07601571\n",
      " -0.06311471 -0.13288184 -0.19903503  0.10936841  0.1797522   0.22867373\n",
      " -0.12426182  0.01441558  0.01523442  0.00570659 -0.00233062 -0.1414325\n",
      " -0.15104525  0.07186671  0.0757286  -0.02953957 -0.04290059 -0.17482334\n",
      "  0.10332102  0.2240107  -0.09068088 -0.03432599 -0.05907094 -0.41488245\n",
      "  0.27800772  0.26515716  0.02702451 -0.01597686  0.08362544 -0.02558657\n",
      "  0.24726865 -0.0059751   0.18630505 -0.20281783 -0.00091973  0.07688932\n",
      " -0.00815553  0.03263938  0.24263933  0.00329049 -0.03962688  0.06136565\n",
      " -0.01439736 -0.00555377  0.2341886  -0.0706628  -0.04145671  0.19139755\n",
      " -0.04085562 -0.00437373 -0.1018905  -0.06476152 -0.08691886 -0.19498949\n",
      " -0.11212474 -0.14006919 -0.14170288  0.08097848 -0.03922698 -0.02299304\n",
      "  0.14234547  0.11000782 -0.0460578   0.07204275 -0.0526863  -0.07031221\n",
      "  0.00768807 -0.05034762 -0.15708259  0.12549356  0.09803671  0.1729138\n",
      " -0.14139411  0.14110152 -0.09497432  0.07612981  0.02860506 -0.03076591\n",
      "  0.24216603  0.0763567   0.03833175  0.1194683  -0.02982818 -0.00335964\n",
      "  0.08899236 -0.15838248  0.06448438 -0.18536232  0.022623    0.08111669\n",
      " -0.0031079  -0.00157783 -0.04838926 -0.08714885 -0.13834357 -0.14694673\n",
      " -0.12763183 -0.0102602  -0.2226925  -0.28336507  0.0711236  -0.16749871\n",
      "  0.00077684  0.08609123  0.01698499 -0.16870579  0.09893791 -0.05570188\n",
      " -0.00529037  0.18287422  0.0947388   0.15494397 -0.11233463 -0.15491775\n",
      " -0.03540253  0.03905763 -0.0305072  -0.03976128  0.14500728 -0.14283429\n",
      " -0.06948926  0.01103784 -0.04414133 -0.11610573  0.0580981   0.04427297\n",
      " -0.01025837  0.02290424  0.05369995  0.0073305   0.10864274  0.01045643\n",
      "  0.07109844 -0.0037613  -0.01824053  0.07400077  0.04036033  0.02066913\n",
      "  0.15695986  0.02960814  0.26113364 -0.06967108 -0.02506731 -0.14885983\n",
      "  0.10382121 -0.21428232  0.00612677  0.06141558 -0.27626726 -0.22606432\n",
      "  0.10076005 -0.00342986 -0.10782383 -0.10880642  0.14663723  0.31137463\n",
      " -0.16805725 -0.00992649 -0.01525934  0.11812848  0.04101167 -0.07845729\n",
      "  0.07639185  0.01272909 -0.13681626 -0.04053494  0.09007983  0.15205398\n",
      "  0.3220817  -0.02767109  0.3188707   0.03869966 -0.01801228 -0.09766877\n",
      "  0.00470912  0.11119868 -0.07633237 -0.09134943  0.03675065  0.02610024\n",
      "  0.11633272 -0.02653614  0.1816931   0.15641898 -0.06573396 -0.14811435\n",
      " -0.03875347  0.05092612]\n"
     ]
    },
    {
     "name": "stderr",
     "output_type": "stream",
     "text": [
      "C:\\Users\\santiago\\Anaconda3\\lib\\site-packages\\ipykernel_launcher.py:3: DeprecationWarning: Call to deprecated `__getitem__` (Method will be removed in 4.0.0, use self.wv.__getitem__() instead).\n",
      "  This is separate from the ipykernel package so we can avoid doing imports until\n"
     ]
    }
   ],
   "source": [
    "word = vocabulary[dic_words['peliculas']]\n",
    "print(word)\n",
    "print(w2v_model[word])"
   ]
  },
  {
   "cell_type": "markdown",
   "metadata": {},
   "source": [
    "## Probando modelo"
   ]
  },
  {
   "cell_type": "code",
   "execution_count": 27,
   "metadata": {
    "collapsed": true
   },
   "outputs": [],
   "source": [
    "def test_w2v(test_list,w2v,vocab,sentiments_list):\n",
    "    prediction_count = 0\n",
    "    for t in test_list:\n",
    "        sentiment = word_prediction(w2v,t['review_clean'],vocab,sentiments_list)\n",
    "        #print(\"Sentiment prediction: \",sentiment,\" real sentiment: \",t['sentiment'])\n",
    "        if sentiment == t['sentiment']:\n",
    "            prediction_count+=1\n",
    "    accuracy = prediction_count/len(test)*100\n",
    "    print(\"Accuracy = \",accuracy,\"% of \",len(test),\" reviews\")\n",
    "    \n",
    "def test_w2v_D(test_list,train_list,w2v,vocab,sentiments_list):\n",
    "    prediction_count = 0\n",
    "    for t in test_list:\n",
    "        sentiment = KNN_documents(t,train_list,w2v)\n",
    "        #print(\"Sentiment prediction: \",sentiment,\" real sentiment: \",t['sentiment'])\n",
    "        if sentiment == t['sentiment']:\n",
    "            prediction_count+=1\n",
    "    accuracy = prediction_count/len(test)*100\n",
    "    print(\"Accuracy = \",accuracy,\"% of \",len(test),\" reviews\")\n",
    "\n",
    "def prediction(critic,w2v,vocab,sentiments_list):\n",
    "    sentiment = word_prediction(w2v,critic,vocab,sentiments_list)\n",
    "    print(sentiment)\n",
    "\n",
    "def word_prediction(w2v,sentence,vocab,sentiments_list):\n",
    "    words_sentiments = []\n",
    "    for word in sentence:\n",
    "        if word in vocab:\n",
    "            KNN_words(w2v,word,sentiments_list,words_sentiments)\n",
    "    #print(words_sentiments)      \n",
    "    return classify_words(words_sentiments)\n",
    "\n",
    "def KNN_words(w2v,word,sentiments_list,words_sentiments):\n",
    "    K = 5\n",
    "    neighbors = w2v.wv.most_similar(word)\n",
    "    for neighbor in neighbors[:K]:\n",
    "        words_sentiments.append(sentiments_list[neighbor[0]])\n",
    "\n",
    "def KNN_documents(rev,corpus,w2v):\n",
    "    k = 10\n",
    "    distances = []\n",
    "    i=0\n",
    "    for c in corpus:\n",
    "        d = []\n",
    "        d.append(c['sentiment'])\n",
    "        d.append(w2v.wmdistance(rev,c['review_clean']))\n",
    "        distances.append(d)\n",
    "        print(i,end=\"\\r\")\n",
    "        i+=1\n",
    "    distances.sort(key=lambda x:x[1])\n",
    "    neighbors_sentiments = [s[0] for s in distances[:k]]\n",
    "    return classify_sentence(neighbors_sentiments)\n",
    "\n",
    "    \n",
    "def classify_words(sentiments_prediction):\n",
    "    pos = 0\n",
    "    neg = 0\n",
    "    cont = 0\n",
    "    for s in sentiments_prediction:\n",
    "        if 'positive' in s:\n",
    "            pos+=1\n",
    "        if 'negative' in s:\n",
    "            neg+=1\n",
    "        cont+= len(s)\n",
    "    neu = cont - (pos+neg)\n",
    "    if pos > neg and pos > neu or pos == neu:\n",
    "        return 'positive'\n",
    "    if neg > pos and neg > neu or neg == neu:\n",
    "        return 'negative'\n",
    "    return 'neutral'\n",
    "\n",
    "def classify_sentence(sentiments_prediction):\n",
    "    pos = 0\n",
    "    neg = 0\n",
    "    cont = 0\n",
    "    for s in sentiments_prediction:\n",
    "        if 'positive' in s:\n",
    "            pos+=1\n",
    "        if 'negative' in s:\n",
    "            neg+=1\n",
    "    neu = len(sentiments_prediction) - (pos+neg)\n",
    "    #print(\"Pos: \",pos, \"Neg:\", neg, \"Neu: \",neu)\n",
    "    if pos > neg and pos > neu or pos == neu:\n",
    "        return 'positive'\n",
    "    if neg > pos and neg > neu or neg == neu:\n",
    "        return 'negative'\n",
    "    return 'neutral'"
   ]
  },
  {
   "cell_type": "code",
   "execution_count": 28,
   "metadata": {},
   "outputs": [
    {
     "name": "stderr",
     "output_type": "stream",
     "text": [
      "C:\\Users\\santiago\\Anaconda3\\lib\\site-packages\\gensim\\matutils.py:737: FutureWarning: Conversion of the second argument of issubdtype from `int` to `np.signedinteger` is deprecated. In future, it will be treated as `np.int32 == np.dtype(int).type`.\n",
      "  if np.issubdtype(vec.dtype, np.int):\n"
     ]
    },
    {
     "name": "stdout",
     "output_type": "stream",
     "text": [
      "Accuracy =  48.840206185567006 % of  776  reviews\n",
      "time: 491.9397s\n"
     ]
    }
   ],
   "source": [
    "start = time.time()\n",
    "test_w2v(test,w2v_model,vocabulary,sentiments)\n",
    "end = time.time()\n",
    "print(\"time: %.4fs\"%(end-start))"
   ]
  },
  {
   "cell_type": "code",
   "execution_count": null,
   "metadata": {},
   "outputs": [],
   "source": [
    "start = time.time()\n",
    "test_w2v_D(test,train,w2v_model,vocabulary,sentiments)\n",
    "end = time.time()\n",
    "print(\"time: %.4fs\"%(end-start))"
   ]
  },
  {
   "cell_type": "code",
   "execution_count": null,
   "metadata": {
    "collapsed": true
   },
   "outputs": [],
   "source": [
    "critic = \"Un spaguetti muy menor, mal rodado y peor interpretado. Dejando que un personaje mitico dentro de este subgenero como es \\\\\\\"Sabata\\\\\\\" sea visto de una manera tan espantosa.\""
   ]
  },
  {
   "cell_type": "code",
   "execution_count": null,
   "metadata": {
    "collapsed": true
   },
   "outputs": [],
   "source": [
    "def prepare_critic(critic):\n",
    "    critic = word_tokenize(critic)\n",
    "    critic = [word.lower() for word in critic if word not in stop_wordsE]\n",
    "    return critic\n",
    "    "
   ]
  },
  {
   "cell_type": "code",
   "execution_count": null,
   "metadata": {},
   "outputs": [],
   "source": [
    "critic = prepare_critic(critic)\n",
    "print(critic)"
   ]
  },
  {
   "cell_type": "code",
   "execution_count": null,
   "metadata": {},
   "outputs": [],
   "source": [
    "prediction(critic,w2v_model,vocabulary,sentiments)"
   ]
  }
 ],
 "metadata": {
  "kernelspec": {
   "display_name": "Python 3",
   "language": "python",
   "name": "python3"
  },
  "language_info": {
   "codemirror_mode": {
    "name": "ipython",
    "version": 3
   },
   "file_extension": ".py",
   "mimetype": "text/x-python",
   "name": "python",
   "nbconvert_exporter": "python",
   "pygments_lexer": "ipython3",
   "version": "3.6.3"
  }
 },
 "nbformat": 4,
 "nbformat_minor": 2
}
