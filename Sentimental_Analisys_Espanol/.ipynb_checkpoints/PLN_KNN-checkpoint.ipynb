{
 "cells": [
  {
   "cell_type": "markdown",
   "metadata": {},
   "source": [
    "## Analisis de Sentimientos\n",
    "\n",
    "#### Por: Mauricio Santiago Valdovinos Morales\n",
    "\n",
    "Clasificación de textos de opinión en español utilizando una red neuronal llamada Word2Vec."
   ]
  },
  {
   "cell_type": "code",
   "execution_count": 1,
   "metadata": {},
   "outputs": [
    {
     "name": "stderr",
     "output_type": "stream",
     "text": [
      "C:\\Users\\santiago\\Anaconda3\\lib\\site-packages\\gensim\\utils.py:1212: UserWarning: detected Windows; aliasing chunkize to chunkize_serial\n",
      "  warnings.warn(\"detected Windows; aliasing chunkize to chunkize_serial\")\n"
     ]
    }
   ],
   "source": [
    "import pandas as pd\n",
    "import nltk\n",
    "import numpy as np\n",
    "from nltk.tokenize import word_tokenize, sent_tokenize\n",
    "import gensim\n",
    "from gensim.models import Word2Vec\n",
    "from gensim import corpora, models, similarities\n",
    "from os import path,listdir\n",
    "import pickle\n",
    "import time\n",
    "\n",
    "reviews_doc = \"data/reviews_f.dat\"\n",
    "reviews_doc_stop = \"data/reviews_with_stopwords.dat\"\n",
    "\n",
    "with open(\"data/stop_words_spanish.dat\", \"rb\") as f:\n",
    "            stop_wordsE = pickle.load(f)"
   ]
  },
  {
   "cell_type": "code",
   "execution_count": 4,
   "metadata": {
    "collapsed": true
   },
   "outputs": [],
   "source": [
    "def save_data(file,dic):\n",
    "    with open(file, \"wb\") as f:\n",
    "        pickle.dump(dic, f)\n",
    "\n",
    "def load_data(file):\n",
    "    with open(file, \"rb\") as f:\n",
    "            return pickle.load(f)\n",
    "        \n",
    "def remove_stop_words(corpus):\n",
    "    results = []\n",
    "    for text in corpus:\n",
    "        sentence = []\n",
    "        for p in text:\n",
    "            if p not in stop_wordsE:\n",
    "                sentence.append(p)\n",
    "        results.append(sentence)\n",
    "    \n",
    "    return results\n",
    "\n",
    "def parser_review(path):\n",
    "    file = open(path).read()\n",
    "    dic = {'review':\"\",'review_clean':[],'sentiment': \"\"}\n",
    "    \n",
    "    #Rank\n",
    "    div = file.split(\"rank=\\\"\")\n",
    "    rank = div[1][0]\n",
    "\n",
    "    #Review\n",
    "    div = file.split(\"<body>\")\n",
    "    div = div[1].split(\"</body>\")\n",
    "    dic['review'] = div[0]\n",
    "    \n",
    "    #Sentiment\n",
    "    if rank == '1' or rank == '2':\n",
    "        dic['sentiment'] = 'negative'\n",
    "    elif rank == '3':\n",
    "        dic['sentiment'] = 'neutral'\n",
    "    else:\n",
    "        dic['sentiment'] = 'positive'\n",
    "    \n",
    "    return dic\n",
    "\n",
    "def list_reviews_features(dic):\n",
    "    list_corp = []\n",
    "    list_ranks = []\n",
    "    list_corp_clean = []\n",
    "    for r in range(len(dic)):\n",
    "        list_corp.append(dic[r]['review'])\n",
    "        list_ranks.append(dic[r]['sentiment'])\n",
    "        list_corp_clean.append(dic[r]['review_clean'])\n",
    "    return list_corp, list_ranks, list_corp_clean\n",
    "\n",
    "def w2v_input(revs):\n",
    "    w2v_int = []\n",
    "    for r in revs:\n",
    "        w2v_int.append(r['review_clean'])\n",
    "    return w2v_int\n",
    "    \n",
    "def create_sentiment_dic(vocabulary):\n",
    "    sentiments = {}\n",
    "    for word in vocabulary:\n",
    "        sentiments[word] = []\n",
    "    return sentiments\n",
    "\n",
    "def def_sentiments_words(vocabulary,reviews):\n",
    "    dic = create_sentiment_dic(vocabulary)\n",
    "    for doc in reviews:\n",
    "        word_sentiment = []\n",
    "        for rc in doc['review_clean']:\n",
    "            for sentence in rc:\n",
    "                for word in vocabulary:\n",
    "                    if word in sentence:\n",
    "                        if len(dic[word]) < 4 and doc['sentiment'] not in dic[word]:\n",
    "                            dic[word].append(doc['sentiment'])\n",
    "    return dic"
   ]
  },
  {
   "cell_type": "markdown",
   "metadata": {},
   "source": [
    "## Generando archivo con diccionarios de la reviews\n",
    "\n",
    "El diccionario tiene los siguientes campos:\n",
    " - Rank: Numero de estrellas de la review 1-5\n",
    " - Title: Titulo de la review\n",
    " - Summaty: pequeño resumen\n",
    " - Review: Critica\n",
    " - review_clean: review tokenizada y filtrada lista para el modelo Word2Vec"
   ]
  },
  {
   "cell_type": "code",
   "execution_count": 6,
   "metadata": {
    "collapsed": true
   },
   "outputs": [],
   "source": [
    "def generate_reviews_doc():\n",
    "    docs = []\n",
    "    for f in sorted(listdir('Corpora')):\n",
    "        if f[len(f)-3:] == \"xml\":\n",
    "            f = path.join('Corpora',f)\n",
    "            docs.append(parser_review(f))\n",
    "    for review in docs:\n",
    "        review['review_clean'] = word_tokenize(review['review'])\n",
    "        for i in range(len(review['review_clean'])):\n",
    "            review['review_clean'][i]  = review['review_clean'][i].lower()\n",
    "        review['review_clean'] = [word for word in review['review_clean'] if word not in stop_wordsE]\n",
    "    save_data(reviews_doc,docs)"
   ]
  },
  {
   "cell_type": "code",
   "execution_count": 7,
   "metadata": {
    "collapsed": true
   },
   "outputs": [],
   "source": [
    "generate_reviews_doc()"
   ]
  },
  {
   "cell_type": "code",
   "execution_count": 8,
   "metadata": {},
   "outputs": [
    {
     "data": {
      "text/plain": [
       "3878"
      ]
     },
     "execution_count": 8,
     "metadata": {},
     "output_type": "execute_result"
    }
   ],
   "source": [
    "reviews = load_data(reviews_doc)\n",
    "len(reviews)"
   ]
  },
  {
   "cell_type": "markdown",
   "metadata": {},
   "source": [
    "## Definiendo lista de entrenamiento y prueba"
   ]
  },
  {
   "cell_type": "code",
   "execution_count": 9,
   "metadata": {},
   "outputs": [
    {
     "name": "stdout",
     "output_type": "stream",
     "text": [
      "Entrenamiento:  3102 Prueba:  776\n"
     ]
    }
   ],
   "source": [
    "point = int(len(reviews) * (4/5))\n",
    "train = reviews[:point]\n",
    "test = reviews[point:]\n",
    "print(\"Entrenamiento: \",len(train),\"Prueba: \",len(test))"
   ]
  },
  {
   "cell_type": "code",
   "execution_count": 10,
   "metadata": {
    "collapsed": true
   },
   "outputs": [],
   "source": [
    "#Uniendo todas las oraciones en un vector para la entrada al modelo w2v\n",
    "w2v_in_train = w2v_input(train)\n",
    "w2v_in_test = w2v_input(test)"
   ]
  },
  {
   "cell_type": "markdown",
   "metadata": {},
   "source": [
    "## Entrenando el modelo word2vec"
   ]
  },
  {
   "cell_type": "code",
   "execution_count": 72,
   "metadata": {},
   "outputs": [
    {
     "data": {
      "text/plain": [
       "(66488151, 75837800)"
      ]
     },
     "execution_count": 72,
     "metadata": {},
     "output_type": "execute_result"
    }
   ],
   "source": [
    "w2v_model = Word2Vec(w2v_in_train+w2v_in_test, size=200, min_count=5, window=5, workers=4, sg=1)\n",
    "w2v_model.train(w2v_in_train,total_examples=len(w2v_in_train),epochs=100)"
   ]
  },
  {
   "cell_type": "markdown",
   "metadata": {},
   "source": [
    "Guardando el modelo Word2Vec"
   ]
  },
  {
   "cell_type": "code",
   "execution_count": 52,
   "metadata": {
    "collapsed": true
   },
   "outputs": [],
   "source": [
    "w2v_model.save('data/model_2.bin')"
   ]
  },
  {
   "cell_type": "markdown",
   "metadata": {},
   "source": [
    "Cargando el modelo guardado"
   ]
  },
  {
   "cell_type": "code",
   "execution_count": 75,
   "metadata": {
    "collapsed": true
   },
   "outputs": [],
   "source": [
    "w2v_model = Word2Vec.load('data/model_2.bin')"
   ]
  },
  {
   "cell_type": "markdown",
   "metadata": {},
   "source": [
    "Definiendo vocabulario entregado por w2v"
   ]
  },
  {
   "cell_type": "code",
   "execution_count": 76,
   "metadata": {},
   "outputs": [
    {
     "name": "stdout",
     "output_type": "stream",
     "text": [
      "20386\n"
     ]
    }
   ],
   "source": [
    "vocabulary = list(w2v_model.wv.vocab)\n",
    "print(len(vocabulary))"
   ]
  },
  {
   "cell_type": "code",
   "execution_count": 77,
   "metadata": {},
   "outputs": [
    {
     "data": {
      "text/plain": [
       "'encuentran'"
      ]
     },
     "execution_count": 77,
     "metadata": {},
     "output_type": "execute_result"
    }
   ],
   "source": [
    "vocabulary[15]"
   ]
  },
  {
   "cell_type": "code",
   "execution_count": 78,
   "metadata": {},
   "outputs": [
    {
     "name": "stdout",
     "output_type": "stream",
     "text": [
      "0.6535177230834961\n"
     ]
    },
    {
     "name": "stderr",
     "output_type": "stream",
     "text": [
      "C:\\Users\\santiago\\Anaconda3\\lib\\site-packages\\gensim\\matutils.py:737: FutureWarning: Conversion of the second argument of issubdtype from `int` to `np.signedinteger` is deprecated. In future, it will be treated as `np.int32 == np.dtype(int).type`.\n",
      "  if np.issubdtype(vec.dtype, np.int):\n"
     ]
    }
   ],
   "source": [
    "print(w2v_model.wv.distance('película','cine'))"
   ]
  },
  {
   "cell_type": "markdown",
   "metadata": {},
   "source": [
    "#### Diccionario de las palabras\n",
    "\n",
    "Diccionario con el indice de la palabra en el vocabulario"
   ]
  },
  {
   "cell_type": "code",
   "execution_count": 15,
   "metadata": {
    "collapsed": true
   },
   "outputs": [],
   "source": [
    "def vocab_dictionary(vocab):\n",
    "    dic_words = {}\n",
    "    i = 0\n",
    "    for w in vocab:\n",
    "        dic_words[w] = i\n",
    "        i+=1\n",
    "    return dic_words"
   ]
  },
  {
   "cell_type": "code",
   "execution_count": 16,
   "metadata": {},
   "outputs": [
    {
     "name": "stdout",
     "output_type": "stream",
     "text": [
      "20386\n"
     ]
    }
   ],
   "source": [
    "dic_words = vocab_dictionary(vocabulary)\n",
    "print(len(dic_words))"
   ]
  },
  {
   "cell_type": "markdown",
   "metadata": {},
   "source": [
    "#### Sentimientos a nivel de palabras\n",
    "\n",
    "Diccionario con la palabra y una lista de los sentimientos que pueden ser positive, negative, neutral <br>\n",
    "\n",
    "'word': ['positive', 'negative', 'neutral']"
   ]
  },
  {
   "cell_type": "code",
   "execution_count": null,
   "metadata": {
    "collapsed": true
   },
   "outputs": [],
   "source": [
    "sentiments = def_sentiments_words(vocabulary,reviews)\n",
    "print(len(sentiments))"
   ]
  },
  {
   "cell_type": "markdown",
   "metadata": {},
   "source": [
    "Guardando el diccionario de sentimientos de las palabras"
   ]
  },
  {
   "cell_type": "code",
   "execution_count": 18,
   "metadata": {
    "collapsed": true
   },
   "outputs": [],
   "source": [
    "save_data('data/sentiments_dic.dat',sentiments)"
   ]
  },
  {
   "cell_type": "markdown",
   "metadata": {},
   "source": [
    "Cargando el diccionario de sentimientos de las palabras"
   ]
  },
  {
   "cell_type": "code",
   "execution_count": 57,
   "metadata": {},
   "outputs": [
    {
     "name": "stdout",
     "output_type": "stream",
     "text": [
      "20386\n"
     ]
    }
   ],
   "source": [
    "sentiments = load_data('data/sentiments_dic.dat')\n",
    "print(len(sentiments))"
   ]
  },
  {
   "cell_type": "code",
   "execution_count": null,
   "metadata": {
    "collapsed": true
   },
   "outputs": [],
   "source": [
    "word = vocabulary[dic_words['peliculas']]\n",
    "print(word)\n",
    "print(w2v_model[word])"
   ]
  },
  {
   "cell_type": "markdown",
   "metadata": {},
   "source": [
    "## Probando modelo"
   ]
  },
  {
   "cell_type": "code",
   "execution_count": 83,
   "metadata": {
    "collapsed": true
   },
   "outputs": [],
   "source": [
    "def test_w2v(test_list,w2v,vocab,sentiments_list):\n",
    "    prediction_count = 0\n",
    "    for t in test_list:\n",
    "        sentiment = word_prediction(w2v,t['review_clean'],vocab,sentiments_list)\n",
    "        #print(\"Sentiment prediction: \",sentiment,\" real sentiment: \",t['sentiment'])\n",
    "        if sentiment == t['sentiment']:\n",
    "            prediction_count+=1\n",
    "    accuracy = prediction_count/len(test)*100\n",
    "    print(\"Accuracy = \",accuracy,\"% of \",len(test),\" reviews\")\n",
    "    \n",
    "def test_w2v_D(test_list,train_list,w2v,vocab,sentiments_list):\n",
    "    prediction_count = 0\n",
    "    for t in test_list:\n",
    "        sentiment = KNN_documents(t,train_list,w2v)\n",
    "        #print(\"Sentiment prediction: \",sentiment,\" real sentiment: \",t['sentiment'])\n",
    "        if sentiment == t['sentiment']:\n",
    "            prediction_count+=1\n",
    "    accuracy = prediction_count/len(test)*100\n",
    "    print(\"Accuracy = \",accuracy,\"% of \",len(test),\" reviews\")\n",
    "\n",
    "def prediction(critic,w2v,vocab,sentiments_list):\n",
    "    sentiment = word_prediction(w2v,critic,vocab,sentiments_list)\n",
    "    print(sentiment)\n",
    "\n",
    "def word_prediction(w2v,sentence,vocab,sentiments_list):\n",
    "    words_sentiments = []\n",
    "    for word in sentence:\n",
    "        if word in vocab:\n",
    "            KNN_words(w2v,word,sentiments_list,words_sentiments)\n",
    "    #print(words_sentiments)      \n",
    "    return classify_words(words_sentiments)\n",
    "\n",
    "def KNN_words(w2v,word,sentiments_list,words_sentiments):\n",
    "    K = 5\n",
    "    neighbors = w2v.wv.most_similar(word)\n",
    "    for neighbor in neighbors[:K]:\n",
    "        words_sentiments.append(sentiments_list[neighbor[0]])\n",
    "\n",
    "def KNN_documents(rev,corpus,w2v):\n",
    "    k = 10\n",
    "    distances = []\n",
    "    i=0\n",
    "    for c in corpus:\n",
    "        d = []\n",
    "        d.append(c['sentiment'])\n",
    "        d.append(w2v.wmdistance(rev,c['review_clean']))\n",
    "        distances.append(d)\n",
    "        print(i,end=\"\\r\")\n",
    "        i+=1\n",
    "    distances.sort(key=lambda x:x[1])\n",
    "    neighbors_sentiments = [s[0] for s in distances[:k]]\n",
    "    return classify_sentence(neighbors_sentiments)\n",
    "\n",
    "    \n",
    "def classify_words(sentiments_prediction):\n",
    "    pos = 0\n",
    "    neg = 0\n",
    "    cont = 0\n",
    "    for s in sentiments_prediction:\n",
    "        if 'positive' in s:\n",
    "            pos+=1\n",
    "        if 'negative' in s:\n",
    "            neg+=1\n",
    "        cont+= len(s)\n",
    "    neu = cont - (pos+neg)\n",
    "    if pos > neg and pos > neu or pos == neu:\n",
    "        return 'positive'\n",
    "    if neg > pos and neg > neu or neg == neu:\n",
    "        return 'negative'\n",
    "    return 'neutral'\n",
    "\n",
    "def classify_sentence(sentiments_prediction):\n",
    "    pos = 0\n",
    "    neg = 0\n",
    "    cont = 0\n",
    "    for s in sentiments_prediction:\n",
    "        if 'positive' in s:\n",
    "            pos+=1\n",
    "        if 'negative' in s:\n",
    "            neg+=1\n",
    "    neu = len(sentiments_prediction) - (pos+neg)\n",
    "    #print(\"Pos: \",pos, \"Neg:\", neg, \"Neu: \",neu)\n",
    "    if pos > neg and pos > neu or pos == neu:\n",
    "        return 'positive'\n",
    "    if neg > pos and neg > neu or neg == neu:\n",
    "        return 'negative'\n",
    "    return 'neutral'"
   ]
  },
  {
   "cell_type": "code",
   "execution_count": 81,
   "metadata": {},
   "outputs": [
    {
     "name": "stderr",
     "output_type": "stream",
     "text": [
      "C:\\Users\\santiago\\Anaconda3\\lib\\site-packages\\gensim\\matutils.py:737: FutureWarning: Conversion of the second argument of issubdtype from `int` to `np.signedinteger` is deprecated. In future, it will be treated as `np.int32 == np.dtype(int).type`.\n",
      "  if np.issubdtype(vec.dtype, np.int):\n"
     ]
    },
    {
     "name": "stdout",
     "output_type": "stream",
     "text": [
      "Accuracy =  48.840206185567006 % of  776  reviews\n",
      "time: 445.1612s\n"
     ]
    }
   ],
   "source": [
    "start = time.time()\n",
    "test_w2v(test,w2v_model,vocabulary,sentiments)\n",
    "end = time.time()\n",
    "print(\"time: %.4fs\"%(end-start))"
   ]
  },
  {
   "cell_type": "code",
   "execution_count": 84,
   "metadata": {},
   "outputs": [
    {
     "name": "stderr",
     "output_type": "stream",
     "text": [
      "C:\\Users\\santiago\\Anaconda3\\lib\\site-packages\\ipykernel_launcher.py:46: DeprecationWarning: Call to deprecated `wmdistance` (Method will be removed in 4.0.0, use self.wv.wmdistance() instead).\n"
     ]
    },
    {
     "name": "stdout",
     "output_type": "stream",
     "text": [
      "Accuracy =  37.75773195876289 % of  776  reviews\n",
      "time: 754.7200s\n"
     ]
    }
   ],
   "source": [
    "start = time.time()\n",
    "test_w2v_D(test,train,w2v_model,vocabulary,sentiments)\n",
    "end = time.time()\n",
    "print(\"time: %.4fs\"%(end-start))"
   ]
  },
  {
   "cell_type": "code",
   "execution_count": 49,
   "metadata": {
    "collapsed": true
   },
   "outputs": [],
   "source": [
    "critic = \"Un spaguetti muy menor, mal rodado y peor interpretado. Dejando que un personaje mitico dentro de este subgenero como es \\\\\\\"Sabata\\\\\\\" sea visto de una manera tan espantosa.\""
   ]
  },
  {
   "cell_type": "code",
   "execution_count": 51,
   "metadata": {
    "collapsed": true
   },
   "outputs": [],
   "source": [
    "def prepare_critic(critic):\n",
    "    critic = word_tokenize(critic)\n",
    "    critic = [word.lower() for word in critic if word not in stop_wordsE]\n",
    "    return critic\n",
    "    "
   ]
  },
  {
   "cell_type": "code",
   "execution_count": 52,
   "metadata": {},
   "outputs": [
    {
     "name": "stdout",
     "output_type": "stream",
     "text": [
      "['un', 'spaguetti', 'menor', 'mal', 'rodado', 'peor', 'interpretado', 'dejando', 'personaje', 'mitico', 'dentro', 'subgenero', '\\\\', 'sabata\\\\', 'visto', 'manera', 'tan', 'espantosa']\n"
     ]
    }
   ],
   "source": [
    "critic = prepare_critic(critic)\n",
    "print(critic)"
   ]
  },
  {
   "cell_type": "code",
   "execution_count": 55,
   "metadata": {},
   "outputs": [
    {
     "name": "stdout",
     "output_type": "stream",
     "text": [
      "neutral\n"
     ]
    },
    {
     "name": "stderr",
     "output_type": "stream",
     "text": [
      "C:\\Users\\santiago\\Anaconda3\\lib\\site-packages\\gensim\\matutils.py:737: FutureWarning: Conversion of the second argument of issubdtype from `int` to `np.signedinteger` is deprecated. In future, it will be treated as `np.int32 == np.dtype(int).type`.\n",
      "  if np.issubdtype(vec.dtype, np.int):\n"
     ]
    }
   ],
   "source": [
    "prediction(critic,w2v_model,vocabulary,sentiments)"
   ]
  }
 ],
 "metadata": {
  "kernelspec": {
   "display_name": "Python 3",
   "language": "python",
   "name": "python3"
  },
  "language_info": {
   "codemirror_mode": {
    "name": "ipython",
    "version": 3
   },
   "file_extension": ".py",
   "mimetype": "text/x-python",
   "name": "python",
   "nbconvert_exporter": "python",
   "pygments_lexer": "ipython3",
   "version": "3.6.3"
  }
 },
 "nbformat": 4,
 "nbformat_minor": 2
}
